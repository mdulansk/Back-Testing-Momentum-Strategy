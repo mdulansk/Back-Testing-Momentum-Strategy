{
    "cells": [
        {
            "cell_type": "markdown",
            "metadata": {},
            "source": [
                "![QuantConnect Logo](https://cdn.quantconnect.com/web/i/icon.png)\n",
                "<hr>"
            ]
        },
        {
            "cell_type": "code",
            "execution_count": 3,
            "metadata": {},
            "outputs": [],
            "source": [
                "# QuantBook Analysis Tool\n",
                "# For more information see https://www.quantconnect.com/docs/research/overview\n",
                "#qb = QuantBook()\n",
                "#spy = qb.AddEquity(\"SPY\")\n",
                "#history = qb.History(qb.Securities.Keys, 360, Resolution.Daily)\n",
                "\n",
                "# Indicator Analysis\n",
                "#ema = qb.Indicator(ExponentialMovingAverage(10), spy.Symbol, 360, Resolution.Daily)\n",
                "#ema.plot()"
            ]
        },
        {
            "cell_type": "code",
            "execution_count": 26,
            "metadata": {},
            "outputs": [
                {
                    "name": "stdout",
                    "output_type": "stream",
                    "text": [
                        "The autoreload extension is already loaded. To reload it, use:\n",
                        "  %reload_ext autoreload\n",
                        "Folder /home/lantro/Documents/Algo Trading/LEAN/data/yahoo - Ok\n",
                        "Ticker SPY already loaded\n",
                        "Ticker AAPL already loaded\n"
                    ]
                },
                {
                    "data": {
                        "text/plain": [
                            "['SPY', 'AAPL']"
                        ]
                    },
                    "execution_count": 26,
                    "metadata": {},
                    "output_type": "execute_result"
                }
            ],
            "source": [
                "%load_ext autoreload\n",
                "%autoreload 2\n",
                "from yahoo_loader import get_yahoo_data\n",
                "get_yahoo_data(['SPY','AAPL'], '1998-01-01', '2022-03-11')"
            ]
        },
        {
            "cell_type": "code",
            "execution_count": null,
            "metadata": {},
            "outputs": [],
            "source": []
        }
    ],
    "metadata": {
        "kernelspec": {
            "display_name": "Python 3",
            "language": "python",
            "name": "python3"
        },
        "language_info": {
            "codemirror_mode": {
                "name": "ipython",
                "version": 3
            },
            "file_extension": ".py",
            "mimetype": "text/x-python",
            "name": "python",
            "nbconvert_exporter": "python",
            "pygments_lexer": "ipython3",
            "version": "3.6.13"
        }
    },
    "nbformat": 4,
    "nbformat_minor": 2
}
