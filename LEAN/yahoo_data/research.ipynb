{
    "cells": [
        {
            "cell_type": "markdown",
            "metadata": {},
            "source": [
                "![QuantConnect Logo](https://cdn.quantconnect.com/web/i/icon.png)\n",
                "<hr>"
            ]
        },
        {
            "cell_type": "code",
            "execution_count": 1,
            "metadata": {},
            "outputs": [],
            "source": [
                "# QuantBook Analysis Tool\n",
                "# For more information see https://www.quantconnect.com/docs/research/overview\n",
                "#qb = QuantBook()\n",
                "#spy = qb.AddEquity(\"SPY\")\n",
                "#history = qb.History(qb.Securities.Keys, 360, Resolution.Daily)\n",
                "\n",
                "# Indicator Analysis\n",
                "#ema = qb.Indicator(ExponentialMovingAverage(10), spy.Symbol, 360, Resolution.Daily)\n",
                "#ema.plot()"
            ]
        },
        {
            "cell_type": "code",
            "execution_count": 2,
            "metadata": {},
            "outputs": [],
            "source": [
                "%load_ext autoreload\n",
                "%autoreload 2\n",
                "from yahoo_loader import get_yahoo_data\n"
            ]
        },
        {
            "cell_type": "code",
            "execution_count": 3,
            "metadata": {},
            "outputs": [],
            "source": [
                "tickers = ['QQQ']\n",
                "sector_etfs = ['XLF','XLK','XLE','XLV','XLY','XLI','XLP','XLU','XLC','XLB','XBI','XLRE','XME','XHB','XSD','XHS']\n",
                "other_etfs = ['SPY','GLD','DIA','SDY','SPYV','BIL','SPYG','SPDW','JNK','SPEM','SPTL','KBE','SPTS','SPTI','SPIP','SJNK']\n",
                "bonds = ['BND']"
            ]
        },
        {
            "cell_type": "code",
            "execution_count": 5,
            "metadata": {},
            "outputs": [
                {
                    "name": "stdout",
                    "output_type": "stream",
                    "text": [
                        "Folder /home/lantro/Documents/Algo Trading/LEAN/data/yahoo - Ok\n",
                        "Retrieving ticker: BND\n"
                    ]
                }
            ],
            "source": [
                "#get_yahoo_data(['TSLA','AMD'], '1998-01-01', '2022-03-25')\n",
                "bond_list  = get_yahoo_data(bonds, '1998-01-01', '2022-04-01')"
            ]
        },
        {
            "cell_type": "code",
            "execution_count": 7,
            "metadata": {},
            "outputs": [
                {
                    "data": {
                        "text/plain": [
                            "['BND']"
                        ]
                    },
                    "execution_count": 7,
                    "metadata": {},
                    "output_type": "execute_result"
                }
            ],
            "source": [
                "df"
            ]
        },
        {
            "cell_type": "code",
            "execution_count": null,
            "metadata": {},
            "outputs": [],
            "source": []
        }
    ],
    "metadata": {
        "kernelspec": {
            "display_name": "Python 3",
            "language": "python",
            "name": "python3"
        },
        "language_info": {
            "codemirror_mode": {
                "name": "ipython",
                "version": 3
            },
            "file_extension": ".py",
            "mimetype": "text/x-python",
            "name": "python",
            "nbconvert_exporter": "python",
            "pygments_lexer": "ipython3",
            "version": "3.10.4"
        }
    },
    "nbformat": 4,
    "nbformat_minor": 2
}
