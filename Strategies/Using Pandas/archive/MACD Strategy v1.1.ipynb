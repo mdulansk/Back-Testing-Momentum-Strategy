{
 "cells": [
  {
   "cell_type": "markdown",
   "metadata": {},
   "source": [
    "### To Do:\n",
    "##### Determine number of winning / losing trades (win rate)\n",
    "##### Calculate max drawdown\n",
    "##### Calculate Sharpe Ratio"
   ]
  },
  {
   "cell_type": "code",
   "execution_count": null,
   "metadata": {},
   "outputs": [],
   "source": [
    "import yfinance as yf\n",
    "import pandas as pd\n",
    "import numpy as np\n",
    "import matplotlib.pyplot as plt\n",
    "import datetime as dt\n"
   ]
  },
  {
   "cell_type": "code",
   "execution_count": null,
   "metadata": {},
   "outputs": [],
   "source": [
    "data_folder = '/home/lantro/Documents/Algo Trading/LEAN/data/yahoo/'\n",
    "ticker = 'spy' #'spy' 'eurusd=x' 'BTC-USD' 'tqqq'\n",
    "warmup_period = 400 # Set this to the length of your longest indicator, i.e. if you calculate a 200 day ma, set it to 200\n",
    "#df = yf.download(ticker, start='2022-03-17', interval='30m')\n",
    "#df.to_csv(data_folder+ticker+'.csv')\n",
    "df = pd.read_csv(f\"{data_folder}{ticker}.csv\", index_col=[0], parse_dates=True, skipinitialspace=True)\n",
    "df.rename(columns = {'Close':'close'}, inplace = True)\n",
    "start_date = '2015-01-01' #Start date for data\n",
    "end_date = '2016-01-01'\n",
    "start_date_adjusted = dt.datetime.strptime(start_date, '%Y-%m-%d').date()-dt.timedelta(days = warmup_period*2) # adjust start date to allow time to warmup indicators\n",
    "df = df.loc[start_date_adjusted:end_date]\n",
    "long_only = False\n"
   ]
  },
  {
   "cell_type": "code",
   "execution_count": null,
   "metadata": {},
   "outputs": [],
   "source": [
    "# This is my attempt to separate out the plotting from the strategy.\n",
    "def MACD(df, s, l, signal):\n",
    "    #Create new dataframe to hold signal values with same index as original df\n",
    "    # Future: use lag parameter to offset signals when using longer s, l time periods otherwise when you try to use the \n",
    "    # combination of MACD signals for buy/sell signals, they won't line up in time, i.e. macd with shorter ema time will get signals earlier\n",
    "    signal_df = pd.DataFrame(index=df.index)\n",
    "    signal_df[\"macd\"] = df.close.ewm(span=s, min_periods=1).mean() - df.close.ewm(span=l, min_periods=1).mean()\n",
    "    signal_df[\"signal\"] = signal_df.macd.ewm(span=signal, min_periods=1).mean()\n",
    "    signal_df[\"diff\"] = signal_df[\"macd\"] - signal_df[\"signal\"]\n",
    "\n",
    "    # Cross points (buys / sells)\n",
    "    # buy_sell_hold: 1 = buy, 0 = hold, -1 = sell\n",
    "    for i in range(1, len(df)): # This is a slow way to do this. Should use apply or iterrows\n",
    "        if signal_df.iloc[i-1][\"diff\"] < 0 and signal_df.iloc[i][\"diff\"] > 0: # MACD above signal after being below on previous day\n",
    "            #print(\"{}:GOLDEN CROSS\".format(df.iloc[i].name))\n",
    "            df.loc[df.iloc[i].name,f's_macd_{s}_{l}_{signal}'] = 1\n",
    "\n",
    "        elif signal_df.iloc[i-1][\"diff\"] > 0 and signal_df.iloc[i][\"diff\"] < 0: # MACD below signal after being above the previous day\n",
    "            #print(\"{}:DEAD CROSS\".format(df.iloc[i].name))\n",
    "            df.loc[df.iloc[i].name,f's_macd_{s}_{l}_{signal}'] = -1\n",
    "        else:\n",
    "            # Don't do anything, no new signal\n",
    "            #print(\"{}:NO CROSS\".format(df.iloc[i].name))\n",
    "            df.loc[df.iloc[i].name,f's_macd_{s}_{l}_{signal}'] = 0  \n",
    "    return(df,signal_df)\n"
   ]
  },
  {
   "cell_type": "code",
   "execution_count": null,
   "metadata": {},
   "outputs": [],
   "source": [
    "df, macd_df = MACD(df, 12, 26, 9)\n",
    "#df, macd2_df = MACD(df, 15, 30, 12)\n",
    "\n",
    "\n",
    "#df[df.iloc[:,-1] == 1] # All rows where last column value = 1\n",
    "#df[df.iloc[:,7:] == 1] # All rows where last column value = 1\n",
    "#macd_df.head()\n",
    "#df.head(20)\n",
    "# View rows where either signal column signaled a buy \n",
    "#df.loc[(df.filter(regex='^s_.*').values == 1).any(axis=1)]"
   ]
  },
  {
   "cell_type": "code",
   "execution_count": null,
   "metadata": {},
   "outputs": [],
   "source": [
    "def trend(df, short_period, long_period, pct_over=1):\n",
    "    #Calculate the required moving averages and difference between the two and return as df\n",
    "    signal_df = pd.DataFrame(index=df.index)\n",
    "    signal_df[f'{short_period}_EMA'] = df.close.ewm(span=short_period, min_periods=short_period).mean()\n",
    "    signal_df[f'{long_period}_EMA'] = df.close.ewm(span=long_period, min_periods=long_period).mean()\n",
    "    signal_df[f'{short_period}-{long_period}_diff'] = signal_df[f'{short_period}_EMA']-signal_df[f'{long_period}_EMA']\n",
    "    signal_df[f's_uptrend_{short_period}-{long_period}'] = (np.where((signal_df[f'{short_period}-{long_period}_diff'] >= (signal_df[f'{long_period}_EMA']*pct_over*.01)), 1, -1))\n",
    "    # Don't add to original df #df[f's_uptrend_{short_period}-{long_period}'] = signal_df[f's_uptrend_{short_period}-{long_period}']\n",
    "    return signal_df"
   ]
  },
  {
   "cell_type": "code",
   "execution_count": null,
   "metadata": {},
   "outputs": [],
   "source": [
    "test = trend(df, 20, 50,1)\n",
    "#test.tail()\n",
    "#test.filter(regex='^s_.*')"
   ]
  },
  {
   "cell_type": "code",
   "execution_count": null,
   "metadata": {},
   "outputs": [],
   "source": [
    "#df.drop('s_uptrend_20-50', axis=1, inplace=True)\n",
    "#df.tail()"
   ]
  },
  {
   "cell_type": "code",
   "execution_count": null,
   "metadata": {},
   "outputs": [],
   "source": [
    "def bullish_ranking(df):\n",
    "    # We can use some trend indicators to determine how long or short we want to be\n",
    "    # Calculate some trend indicators, then sum to create a 'bullish' ranking to add to the main df.\n",
    "    bullish_df = pd.DataFrame(index=df.index)\n",
    "    bullish_df = bullish_df.join(trend(df, 20, 50,1).filter(regex='^s_.*')) #Just get the signal values from the df\n",
    "    # Stock above 20 MA\n",
    "    # 20 MA above 50 MA\n",
    "    # 50 MA above 200 MA\n",
    "    #return bullish_df\n",
    "\n",
    "bullish_ranking(df)\n",
    "#signal_df[signal_df['bullishness']==1]\n",
    "#df[df['bullishness']==1]\n"
   ]
  },
  {
   "cell_type": "code",
   "execution_count": null,
   "metadata": {},
   "outputs": [],
   "source": [
    "def set_holdings(df, long_only=False):\n",
    "    # We are using the 'all' numpy method which evaluates to True only if all items in array evaluate to True\n",
    "    # Alternatively, we can use the 'any' method\n",
    "    #We need to account for the fact that we can't buy until the next day, so we should set holdings for following day when we get a signal\n",
    "    df['buy_sell'] = 0 # Create column to hold buy/sell signals for plotting \n",
    "    df['holdings'] = np.NaN # Create new 'holdings column'\n",
    "    # LONG signals - set holdings\n",
    "    df.loc[(df.filter(regex='^s_.*').values == 1).all(axis=1),'buy_sell'] = 1\n",
    "    # SHORT signals - set holdings\n",
    "    df.loc[(df.filter(regex='^s_.*').values == -1).all(axis=1),'buy_sell'] = -1\n",
    "    # Set holdings\n",
    "    df.loc[df['buy_sell'] == 1,'holdings'] = 1\n",
    "    if long_only == False:\n",
    "        df.loc[df['buy_sell'] == -1,'holdings'] = -1\n",
    "    else:\n",
    "        df.loc[df['buy_sell'] == -1,'holdings'] = 0\n",
    "    # NEUTRAL signals - we will just fill forward values from rows that had signals to cells with NaN values\n",
    "    df['holdings'].ffill(inplace=True)\n",
    "    #Shift the holdings column down by one since we can only buy on the day after we get a signal since it is based on closing prices. This still doesn't account for overnight price change!\n",
    "    df['holdings'] = df.shift(1)['holdings']\n",
    "    #return(df)\n",
    "\n",
    "\n",
    "set_holdings(df, long_only)\n",
    "#df.head(20)\n",
    "#df[df['buy_sell'] == -1]\n",
    "#df[df['holdings'] == 1]\n",
    "\n",
    "    "
   ]
  },
  {
   "cell_type": "code",
   "execution_count": null,
   "metadata": {},
   "outputs": [],
   "source": [
    "#df.head(30)"
   ]
  },
  {
   "cell_type": "code",
   "execution_count": null,
   "metadata": {},
   "outputs": [],
   "source": [
    "def periods_in_strategy(start_timestamp, end_timestamp):\n",
    "    start_date = dt.datetime.date(start_timestamp)\n",
    "    end_date = dt.datetime.date(end_timestamp)\n",
    "    days = (end_date - start_date).days\n",
    "    months = round(days/30, 1)\n",
    "    years = round(days / 365, 1)\n",
    "    #print(f'strategy_start: {start_date}')\n",
    "    #print(f'strategy_start: {end_date}')\n",
    "    #print(f'days: {days}')\n",
    "    #print(f'months: {months}')\n",
    "    #print(f'years: {years}')\n",
    "    return(days,months,years)\n"
   ]
  },
  {
   "cell_type": "code",
   "execution_count": null,
   "metadata": {},
   "outputs": [],
   "source": [
    "#Adjust dataframes to start with specified start_date now that we have calculated all of our indicators\n",
    "df = df.loc[start_date:end_date]\n",
    "macd_df = macd_df.loc[start_date:end_date]\n",
    "strategy_start = df.iloc[0].name\n",
    "strategy_end = df.iloc[-1].name\n",
    "strategy_periods = periods_in_strategy(strategy_start, strategy_end)\n",
    "print(f'strategy start: {df.iloc[0].name.date()}')\n",
    "print(f'strategy end: {df.iloc[-1].name.date()}')\n",
    "print(f'strategy_days: {strategy_periods[0]}')\n",
    "print(f'strategy_months: {strategy_periods[1]}')\n",
    "print(f'strategy_years: {strategy_periods[2]}')"
   ]
  },
  {
   "cell_type": "code",
   "execution_count": null,
   "metadata": {},
   "outputs": [],
   "source": [
    "def plot_MACD(df,macd_df,returns_df):\n",
    "    xdate = [x.date() for x in df.index]\n",
    "    plt.figure(figsize=(30, 30))\n",
    "    \n",
    "    # plot the original closing line\n",
    "    plt.subplot(311) # 3 plots vertically, 1 plot horizontally, this is the 1st plot\n",
    "    plt.plot(xdate, df.close, label=\"close\")\n",
    "    plt.scatter(df[df[\"buy_sell\"]==1].index, df[df[\"buy_sell\"]==1][\"close\"], marker=\"^\", s=100, color=\"b\", alpha=0.9)\n",
    "    plt.scatter(df[df[\"buy_sell\"]==-1].index, df[df[\"buy_sell\"]==-1][\"close\"], marker=\"v\", s=100, color=\"r\", alpha=0.9)\n",
    "    plt.plot(df.close.ewm(span=50, min_periods=25).mean(), label='50_day_EMA')\n",
    "    plt.plot(df.close.ewm(span=200, min_periods=50).mean(), label='200_day_EMA')\n",
    "    plt.xlim(xdate[0], xdate[-1])\n",
    "    plt.legend()\n",
    "    plt.grid()\n",
    "    \n",
    "    # plot MACD and signal\n",
    "    plt.subplot(312) # 3 plots vertically, 1 plot horizontally, this is the 2nd plot\n",
    "    plt.title(\"MACD\")\n",
    "    plt.plot(xdate, macd_df.macd, label=\"macd\")\n",
    "    plt.plot(xdate, macd_df.signal, label=\"signal\")\n",
    "    plt.xlim(xdate[0], xdate[-1])\n",
    "    plt.legend()\n",
    "    plt.grid(True)\n",
    "\n",
    "    # Add Buy signals to MACD plot\n",
    "    plt.scatter(df[df[\"buy_sell\"]==1].index, macd_df[df[\"buy_sell\"]==1][\"macd\"], marker=\"o\", s=100, color=\"b\", alpha=0.9)\n",
    "    # Plot Sell signals to MACD plot\n",
    "    plt.scatter(df[df[\"buy_sell\"]==-1].index, macd_df[df[\"buy_sell\"]==-1][\"macd\"], marker=\"o\", s=100, color=\"r\", alpha=0.9)\n",
    "    \n",
    "    # Plot Cumulative Returns\n",
    "    plt.subplot(313) # 3 plots vertically, 1 plot horizontally, this is the 3rd plot\n",
    "    plt.title(\"Cumulative Returns\")\n",
    "    returns_xdate = [x.date() for x in returns_df.index]\n",
    "    plt.plot(returns_xdate, returns_df.bh_cum_daily_returns, label=\"B&H_Cum_Return\")\n",
    "    plt.plot(returns_xdate, returns_df.strategy_cum_daily_returns, label=\"Strategy_Cum_Return\")\n",
    "    #plt.plot(xdate, returns_df.bh_cum_daily_returns, label=\"B&H_Cum_Return\")\n",
    "    #plt.plot(xdate, returns_df.strategy_cum_daily_returns, label=\"Strategy_Cum_Return\")\n",
    "    \n",
    "    plt.legend()\n",
    "    plt.grid()\n",
    "    \n",
    "    \n",
    "    # Buy / Sell Signal Plot\n",
    "    #plt.subplot(314) # 3 plots vertically, 1 plot horizontally, this is the 3rd plot\n",
    "    #plt.plot(xdate, df.holdings, label=\"Holdings\")"
   ]
  },
  {
   "cell_type": "code",
   "execution_count": null,
   "metadata": {},
   "outputs": [],
   "source": [
    "def calculate_returns(df,price_column): #\n",
    "    # Calculate strategy returns (note date of first trade to use for buy & hold return calc)\n",
    "    # Calculate buy & hold returns (make sure you adjust dates to account for warmup period)\n",
    "    #strategy_start = df[df['holdings'] == 1].index[0] #Set the trading start date to first buy for strategy\n",
    "    #strategy_start = df.iloc[warmup_period].name #Set the trading start date to the end of the warmup period\n",
    "    strategy_start = df.iloc[0].name #Set the trading start date to the end of the warmup period\n",
    "    #print(f'strategy_start: {strategy_start}')\n",
    "    years = periods_in_strategy(strategy_start, df.iloc[-1].name)[2]\n",
    "    df.loc[:,'bh_daily_returns'] = df[price_column].pct_change()\n",
    "    df.loc[:,'strategy_daily_returns'] = df['bh_daily_returns'] * df.loc[:,'holdings']\n",
    "    df = df.iloc[1:,:].copy() #Skip 1st column containing NaN value\n",
    "    #print(df_daily_returns.tail())\n",
    "\n",
    "    # Calculate the cumulative daily returns\n",
    "    df.loc[:,'bh_cum_daily_returns'] = (1 + df['bh_daily_returns']).cumprod() - 1\n",
    "    df.loc[:,'strategy_cum_daily_returns'] = (1 + df['strategy_daily_returns']).cumprod() - 1\n",
    "    #print(df_cum_daily_returns.tail())\n",
    "    bh_cum_return_entire_period = df.loc[:,'bh_cum_daily_returns'].iloc[-1]#.tail(1)\n",
    "    bh_total_return = round(bh_cum_return_entire_period * 100,2)\n",
    "    print(f'{dt.datetime.date(df.iloc[0].name)}:  ${round(df.close.iloc[0],2)}')\n",
    "    print(f'{dt.datetime.date(df.iloc[-1].name)}:  ${round(df.close.iloc[-1],2)}')\n",
    "    print(f'Total B&H Return:  {bh_total_return}%\\t({round(bh_total_return/years,2)}% annualized)')\n",
    "    strategy_cum_return_entire_period = df.loc[:,'strategy_cum_daily_returns'].iloc[-1]#.tail(1)\n",
    "    strategy_total_return = round(strategy_cum_return_entire_period * 100,2)\n",
    "    print(f'Total Strategy Return:  {strategy_total_return}%\\t({round(strategy_total_return/years,2)}% annualized)')\n",
    "    print(f'$10000 investment became ${10000 *(1+strategy_total_return/100)}')\n",
    "    return(df)\n",
    "    \n"
   ]
  },
  {
   "cell_type": "code",
   "execution_count": null,
   "metadata": {},
   "outputs": [],
   "source": [
    "def calulate_stats(df):\n",
    "    pass\n",
    "    # Determine number of winning / losing trades (win rate)\n",
    "    # Calculate max drawdown\n",
    "    # Calculate Sharpe Ratio"
   ]
  },
  {
   "cell_type": "code",
   "execution_count": null,
   "metadata": {},
   "outputs": [],
   "source": [
    "\n",
    "returns_df = calculate_returns(df,'close')\n",
    "#print(f'returns_df_start: {returns_df.iloc[0].name}')\n",
    "#print(f'returns_df_end: {returns_df.iloc[-1].name}')\n",
    "\n",
    "#calulate_stats(df)\n",
    "plot_MACD(df,macd_df,returns_df)"
   ]
  },
  {
   "cell_type": "code",
   "execution_count": null,
   "metadata": {},
   "outputs": [],
   "source": []
  },
  {
   "cell_type": "code",
   "execution_count": null,
   "metadata": {},
   "outputs": [],
   "source": []
  },
  {
   "cell_type": "code",
   "execution_count": null,
   "metadata": {},
   "outputs": [],
   "source": []
  }
 ],
 "metadata": {
  "interpreter": {
   "hash": "ad654615605a9a6561ac5d9ede85fd4a268de6bdfb45f58c8bc91a74f799d613"
  },
  "kernelspec": {
   "display_name": "Python 3.6.13 ('algo')",
   "language": "python",
   "name": "python3"
  },
  "language_info": {
   "codemirror_mode": {
    "name": "ipython",
    "version": 3
   },
   "file_extension": ".py",
   "mimetype": "text/x-python",
   "name": "python",
   "nbconvert_exporter": "python",
   "pygments_lexer": "ipython3",
   "version": "3.10.4"
  },
  "orig_nbformat": 4
 },
 "nbformat": 4,
 "nbformat_minor": 2
}
