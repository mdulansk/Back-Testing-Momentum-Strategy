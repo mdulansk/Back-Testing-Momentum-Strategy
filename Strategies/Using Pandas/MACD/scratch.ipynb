{
 "cells": [
  {
   "cell_type": "code",
   "execution_count": null,
   "metadata": {},
   "outputs": [],
   "source": []
  },
  {
   "cell_type": "code",
   "execution_count": 1,
   "metadata": {},
   "outputs": [],
   "source": [
    "import yfinance as yf\n",
    "import pandas as pd\n",
    "import numpy as np\n",
    "import matplotlib.pyplot as plt\n",
    "from datetime import datetime, timedelta"
   ]
  },
  {
   "cell_type": "code",
   "execution_count": 2,
   "metadata": {},
   "outputs": [
    {
     "name": "stdout",
     "output_type": "stream",
     "text": [
      "The type of the input date string now is:  <class 'datetime.datetime'>\n",
      "The date is 2024-01-21 11:04:19\n"
     ]
    }
   ],
   "source": [
    "\n",
    "  \n",
    "input_str = '21/01/24 11:04:19'\n",
    "  \n",
    "dt_object = datetime.strptime(\n",
    "  input_str, '%d/%m/%y %H:%M:%S')\n",
    "print(\"The type of the input date string now is: \", \n",
    "      type(dt_object))\n",
    "  \n",
    "print(\"The date is\", dt_object)"
   ]
  },
  {
   "cell_type": "code",
   "execution_count": 3,
   "metadata": {},
   "outputs": [
    {
     "name": "stdout",
     "output_type": "stream",
     "text": [
      "future_date_after_2yrs: 2026-01-20 11:04:19\n",
      "future_date_after_2days: 2024-01-23 11:04:19\n"
     ]
    }
   ],
   "source": [
    "future_date_after_2yrs = dt_object + \\\n",
    "                        timedelta(days = 730)\n",
    " \n",
    "future_date_after_2days = dt_object + \\\n",
    "                         timedelta(days = 2)\n",
    " \n",
    "# printing calculated future_dates\n",
    "print('future_date_after_2yrs:', str(future_date_after_2yrs))\n",
    "print('future_date_after_2days:', str(future_date_after_2days))"
   ]
  },
  {
   "cell_type": "code",
   "execution_count": 4,
   "metadata": {},
   "outputs": [
    {
     "name": "stdout",
     "output_type": "stream",
     "text": [
      "2024-01-23\n"
     ]
    }
   ],
   "source": [
    "just_date =  datetime.date(future_date_after_2days)\n",
    "print(just_date)"
   ]
  },
  {
   "cell_type": "code",
   "execution_count": 6,
   "metadata": {},
   "outputs": [],
   "source": [
    "data_folder = '/home/lantro/Documents/Algo Trading/LEAN/data/yahoo/'\n",
    "ticker = 'spy' #'spy' 'eurusd=x' 'BTC-USD'\n",
    "warmup_period = 200 # Set this to the length of your longest indicator, i.e. if you calculate a 200 day ma, set it to 200\n",
    "#df = yf.download(ticker, start='2022-03-17', interval='30m')\n",
    "#df.to_csv(data_folder+ticker+'.csv')\n",
    "df = pd.read_csv(f\"{data_folder}{ticker}.csv\", index_col=[0], parse_dates=True, skipinitialspace=True)\n",
    "df.rename(columns = {'Close':'close'}, inplace = True)\n",
    "start_date = '2015-01-01' #Start date for data\n",
    "end_date = '2022-05-01'\n",
    "#df = df.loc[start_date-warmup_period:end_date] #Change this so that we use the whole thing and use the start date to specify when we want to start trading so indicators have time to \"warm up\"\n",
    "\n",
    "    #To be fair we should note the date when our signals have enough data so we don't exclude dates for B&H return\n",
    "long_only = False\n"
   ]
  },
  {
   "cell_type": "code",
   "execution_count": 12,
   "metadata": {},
   "outputs": [
    {
     "name": "stdout",
     "output_type": "stream",
     "text": [
      "2014-06-15\n"
     ]
    }
   ],
   "source": [
    "start_dt_object = datetime.strptime(\n",
    "  start_date, '%Y-%m-%d').date()-timedelta(days = warmup_period)\n",
    "print(start_dt_object)"
   ]
  },
  {
   "cell_type": "code",
   "execution_count": null,
   "metadata": {},
   "outputs": [],
   "source": []
  }
 ],
 "metadata": {
  "interpreter": {
   "hash": "ad654615605a9a6561ac5d9ede85fd4a268de6bdfb45f58c8bc91a74f799d613"
  },
  "kernelspec": {
   "display_name": "Python 3.6.13 ('algo')",
   "language": "python",
   "name": "python3"
  },
  "language_info": {
   "codemirror_mode": {
    "name": "ipython",
    "version": 3
   },
   "file_extension": ".py",
   "mimetype": "text/x-python",
   "name": "python",
   "nbconvert_exporter": "python",
   "pygments_lexer": "ipython3",
   "version": "3.6.13"
  },
  "orig_nbformat": 4
 },
 "nbformat": 4,
 "nbformat_minor": 2
}
