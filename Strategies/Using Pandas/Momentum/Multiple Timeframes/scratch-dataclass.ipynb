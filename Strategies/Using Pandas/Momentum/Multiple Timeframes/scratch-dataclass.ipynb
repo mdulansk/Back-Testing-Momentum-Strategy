{
 "cells": [
  {
   "cell_type": "code",
   "execution_count": 4,
   "metadata": {},
   "outputs": [],
   "source": [
    "from dataclasses import dataclass\n",
    "import pandas as pd"
   ]
  },
  {
   "cell_type": "code",
   "execution_count": 5,
   "metadata": {},
   "outputs": [],
   "source": [
    "@dataclass\n",
    "class DataClassParameters:\n",
    "    # Data class to hold all of the various parameter values required by strategy function\n",
    "    benchmark_start_date: str = '2010-01-01'\n",
    "    start_date: str = '2010-01-01'#'2010-01-01'\n",
    "    end_date: str = '2022-12-23'\n",
    "    benchmark_ticker: str = '^IXIC' # (NASDAQ) #'SPY' # (S&P500)\n",
    "    daily_price_csv: str = None\n",
    "    synthetic_benchmark: bool = True#True\n",
    "    ticker_csv: str = None\n",
    "    daily_price_csv: str = None\n",
    "    stats_csv: str = None\n",
    "    tickers: list = None\n",
    "    refresh_tickers: bool = False\n",
    "    refresh_data: bool = False #True\n",
    "    all_stats: list = None # List to hold individual dictionaries containing strategy performance for various parameters\n",
    "    performance_measure: str = 'perf_score' #'tot_ret' # What we'll use to sort our return data\n",
    "    resample_period: str = 'M' #'M' #'W'\n",
    "    run_number: int = 1 # Don't change this.\n",
    "    run_max: int = 2 #4 # How many times to run th eoptimization function\n",
    "    SMA_S: tuple = None\n",
    "    SMA_L: tuple = None\n",
    "    rolling_l: tuple = None\n",
    "    rolling_m: tuple = None\n",
    "    rolling_s: tuple = None\n",
    "    stop: int = 15 #5 #15\n",
    "    stop_type: str =  'indiv' #'avg'\n",
    "    stop_enable: bool = True#True # Stop function only works with monthly data (for the moment)\n",
    "    qty_long_period: int = None #30 #3 Number of stocks to hold from longest rolling period\n",
    "    qty_med_period: int = None #20 #2 Number of stocks to hold from medium rolling period\n",
    "    qty_short_period: int = None #2 #1 Number of stocks to hold from shortest rolling period\n",
    "    parameter_combos: list = None\n",
    "    range_divisor: int = 10 # We divide the range of numbers for a parameter by this to determine how many data points to test\n",
    "    param_multiplier: float = 1.5 #.8 #This is used to create range of parameter values for optimization. For example, specifying .8 means expanding value +/- 80%\n",
    "    processes: int = 16#16\n",
    "    optimize_params: bool = True#True\n",
    "    optimize_method: int = 2\n",
    "    \n",
    "    \n",
    "@dataclass\n",
    "class DataClassPriceData:\n",
    "    benchmark_prices: pd.core.frame.DataFrame = None\n",
    "    benchmark_returns: pd.core.frame.DataFrame = None\n",
    "    stock_prices: pd.core.frame.DataFrame = None\n",
    "    stock_returns: pd.core.frame.DataFrame = None #We can reference whichever return period we want for this\n",
    "    daily_returns: pd.core.frame.DataFrame = None # We use this for calculating trailing stop\n",
    "    \n",
    "@dataclass\n",
    "class DataClassPerformanceData:\n",
    "    benchmark_performance: pd.core.frame.DataFrame = None\n",
    "    strategy_performance: pd.core.frame.DataFrame = None\n",
    "    all_stats_df: pd.core.frame.DataFrame = pd.DataFrame()"
   ]
  },
  {
   "cell_type": "code",
   "execution_count": 39,
   "metadata": {},
   "outputs": [],
   "source": [
    "#Create instance of dataclass\n",
    "global parameter_data\n",
    "parameter_data = DataClassParameters(qty_long_period=30,qty_med_period=20,qty_short_period=2,SMA_S=(10),SMA_L=(200),\n",
    "                                         rolling_l=(12), rolling_m=(6),rolling_s=(3),stop=15)"
   ]
  },
  {
   "cell_type": "code",
   "execution_count": 40,
   "metadata": {},
   "outputs": [],
   "source": [
    "parameter_data.SMA_S = 11"
   ]
  },
  {
   "cell_type": "code",
   "execution_count": 41,
   "metadata": {},
   "outputs": [
    {
     "data": {
      "text/plain": [
       "DataClassParameters(benchmark_start_date='2010-01-01', start_date='2010-01-01', end_date='2022-12-23', benchmark_ticker='^IXIC', daily_price_csv=None, synthetic_benchmark=True, ticker_csv=None, stats_csv=None, tickers=None, refresh_tickers=False, refresh_data=False, all_stats=None, performance_measure='perf_score', resample_period='M', run_number=1, run_max=2, SMA_S=11, SMA_L=200, rolling_l=12, rolling_m=6, rolling_s=3, stop=15, stop_type='indiv', stop_enable=True, qty_long_period=30, qty_med_period=20, qty_short_period=2, parameter_combos=None, range_divisor=10, param_multiplier=1.5, processes=16, optimize_params=True, optimize_method=2)"
      ]
     },
     "execution_count": 41,
     "metadata": {},
     "output_type": "execute_result"
    }
   ],
   "source": [
    "parameter_data"
   ]
  },
  {
   "cell_type": "code",
   "execution_count": 42,
   "metadata": {},
   "outputs": [
    {
     "name": "stdout",
     "output_type": "stream",
     "text": [
      "DataClassParameters(benchmark_start_date='2010-01-01', start_date='2010-01-01', end_date='2022-12-23', benchmark_ticker='^IXIC', daily_price_csv=None, synthetic_benchmark=True, ticker_csv=None, stats_csv=None, tickers=None, refresh_tickers=False, refresh_data=False, all_stats=None, performance_measure='perf_score', resample_period='M', run_number=1, run_max=2, SMA_S=11, SMA_L=200, rolling_l=12, rolling_m=6, rolling_s=3, stop=15, stop_type='indiv', stop_enable=True, qty_long_period=30, qty_med_period=20, qty_short_period=2, parameter_combos=None, range_divisor=10, param_multiplier=1.5, processes=16, optimize_params=True, optimize_method=2)\n",
      "key: benchmark_start_date, val: 2010-01-01\n",
      "key: start_date, val: 2010-01-01\n",
      "key: end_date, val: 2022-12-23\n",
      "key: benchmark_ticker, val: ^IXIC\n",
      "key: daily_price_csv, val: None\n",
      "key: synthetic_benchmark, val: 2\n",
      "key: ticker_csv, val: None\n",
      "key: stats_csv, val: None\n",
      "key: tickers, val: None\n",
      "key: refresh_tickers, val: 1\n",
      "key: refresh_data, val: 1\n",
      "key: all_stats, val: None\n",
      "key: performance_measure, val: perf_score\n",
      "key: resample_period, val: M\n",
      "key: run_number, val: 2\n",
      "key: run_max, val: 3\n",
      "key: SMA_S, val: 12\n",
      "key: SMA_L, val: 201\n",
      "key: rolling_l, val: 13\n",
      "key: rolling_m, val: 7\n",
      "key: rolling_s, val: 4\n",
      "key: stop, val: 16\n",
      "key: stop_type, val: indiv\n",
      "key: stop_enable, val: 2\n",
      "key: qty_long_period, val: 31\n",
      "key: qty_med_period, val: 21\n",
      "key: qty_short_period, val: 3\n",
      "key: parameter_combos, val: None\n",
      "key: range_divisor, val: 11\n",
      "key: param_multiplier, val: 1.5\n",
      "key: processes, val: 17\n",
      "key: optimize_params, val: 2\n",
      "key: optimize_method, val: 3\n"
     ]
    }
   ],
   "source": [
    "print(parameter_data)\n",
    "\n",
    "def my_func(parameter_data):\n",
    "    param_data_dict = parameter_data.__dict__\n",
    "#    print(f'{parameter_data.__getattribute__}\\nparameter_data.SMA_S: {parameter_data.SMA_S}')\n",
    "    for key in param_data_dict:\n",
    "        if isinstance(param_data_dict[key],int):\n",
    "            param_data_dict[key] +=1\n",
    "        print(f'key: {(key)}, val: {param_data_dict[key]}')\n",
    "    #parameter_data.SMA_S += 1\n",
    "my_func(parameter_data)\n",
    "#print(f'{parameter_data.__getattribute__}\\nparameter_data.SMA_S: {parameter_data.SMA_S}')\n",
    "\n"
   ]
  },
  {
   "cell_type": "code",
   "execution_count": 79,
   "metadata": {},
   "outputs": [
    {
     "name": "stdout",
     "output_type": "stream",
     "text": [
      "k: benchmark_start_date, v: 2010-01-01\n",
      "k: start_date, v: 2010-01-01\n",
      "k: end_date, v: 2022-12-23\n",
      "k: benchmark_ticker, v: ^IXIC\n",
      "k: daily_price_csv, v: None\n",
      "k: synthetic_benchmark, v: 2\n",
      "k: ticker_csv, v: None\n",
      "k: stats_csv, v: None\n",
      "k: tickers, v: None\n",
      "k: refresh_tickers, v: 1\n",
      "k: refresh_data, v: 1\n",
      "k: all_stats, v: None\n",
      "k: performance_measure, v: perf_score\n",
      "k: resample_period, v: M\n",
      "k: run_number, v: 2\n",
      "k: run_max, v: 3\n",
      "k: SMA_S, v: 12\n",
      "k: SMA_L, v: 201\n",
      "k: rolling_l, v: 13\n",
      "k: rolling_m, v: 7\n",
      "k: rolling_s, v: 4\n",
      "k: stop, v: 16\n",
      "k: stop_type, v: indiv\n",
      "k: stop_enable, v: 2\n",
      "k: qty_long_period, v: 31\n",
      "k: qty_med_period, v: 21\n",
      "k: qty_short_period, v: 3\n",
      "k: parameter_combos, v: None\n",
      "k: range_divisor, v: 11\n",
      "k: param_multiplier, v: 1.5\n",
      "k: processes, v: 17\n",
      "k: optimize_params, v: 2\n",
      "k: optimize_method, v: 3\n"
     ]
    }
   ],
   "source": [
    "p_dict = parameter_data.__dict__\n",
    "for k,v in p_dict.items():\n",
    "    print(f'k: {k}, v: {v}')"
   ]
  },
  {
   "cell_type": "code",
   "execution_count": 80,
   "metadata": {},
   "outputs": [],
   "source": [
    "params_to_optimize = ['SMA_S','SMA_L','stop']"
   ]
  },
  {
   "cell_type": "code",
   "execution_count": 98,
   "metadata": {},
   "outputs": [
    {
     "name": "stdout",
     "output_type": "stream",
     "text": [
      "SMA_S: 12\n",
      "SMA_L: 201\n",
      "stop: 16\n"
     ]
    }
   ],
   "source": [
    "#new_dict = {(param,val) for (param,val) in p_dict.items() if param in params_to_optimize}\n",
    "new_dict = {param:val for param,val in p_dict.items()}# if param in params_to_optimize}\n",
    "#dict_variable = {key:value for (key,value) in dictonary.items()}\n",
    "#print(new_dict)\n",
    "#print('\\n'.join('{}: {}'.format(key, value) for key, value in new_dict.items()))\n",
    "for param in params_to_optimize: print(f'{param}: {p_dict[param]}')"
   ]
  },
  {
   "cell_type": "code",
   "execution_count": null,
   "metadata": {},
   "outputs": [],
   "source": []
  },
  {
   "cell_type": "code",
   "execution_count": null,
   "metadata": {},
   "outputs": [],
   "source": []
  }
 ],
 "metadata": {
  "kernelspec": {
   "display_name": "algo",
   "language": "python",
   "name": "python3"
  },
  "language_info": {
   "codemirror_mode": {
    "name": "ipython",
    "version": 3
   },
   "file_extension": ".py",
   "mimetype": "text/x-python",
   "name": "python",
   "nbconvert_exporter": "python",
   "pygments_lexer": "ipython3",
   "version": "3.10.6"
  },
  "orig_nbformat": 4,
  "vscode": {
   "interpreter": {
    "hash": "e26213f1be164962b461468972fd89f374928e979d98cd024b425d7ac8225448"
   }
  }
 },
 "nbformat": 4,
 "nbformat_minor": 2
}
