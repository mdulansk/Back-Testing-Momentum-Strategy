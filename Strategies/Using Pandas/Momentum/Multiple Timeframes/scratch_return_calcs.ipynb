{
 "cells": [
  {
   "cell_type": "markdown",
   "metadata": {},
   "source": [
    "Return Calculation Methods\n",
    "https://dspyt.com/simple-returns-log-return-and-volatility-simple-introduction\n"
   ]
  },
  {
   "cell_type": "code",
   "execution_count": 2,
   "metadata": {},
   "outputs": [],
   "source": [
    "import os\n",
    "import sys\n",
    "import pandas as pd\n",
    "import numpy as np\n",
    "import time\n",
    "from dataclasses import dataclass"
   ]
  },
  {
   "cell_type": "code",
   "execution_count": 3,
   "metadata": {},
   "outputs": [],
   "source": [
    "HOME_DIR = os.path.expanduser('~/')\n",
    "sys.path.append(f\"{HOME_DIR}/Documents/Algo/Stock Price DB/\")\n",
    "from StockPriceData import process_ticker\n",
    "script_path = HOME_DIR+'/Documents/Algo/Strategies/Using Pandas/Momentum/Multiple Timeframes'\n",
    "cached_data = script_path+'/'+'cached_data'\n",
    "stats_data = script_path+'/'+'stats'\n",
    "data_folder = f'{HOME_DIR}/Documents/Algo/Data'\n",
    "ticker_folder = f'{data_folder}/Tickers/Nasdaq-100'\n",
    "current_date = time.strftime(\"%Y.%m.%d.%H%M%S\")\n",
    "daily_price_csv = f'{cached_data}/nasdaq100_daily_prices.csv'\n",
    "benchmark_ticker: str = '^IXIC' # (NASDAQ) #'SPY' # (S&P500)"
   ]
  },
  {
   "cell_type": "code",
   "execution_count": 4,
   "metadata": {},
   "outputs": [],
   "source": [
    "@dataclass\n",
    "class DataClassParameters:\n",
    "    benchmark_start_date: str = '2010-01-01'\n",
    "    start_date: str = '2010-01-01'#'2010-01-01'\n",
    "    end_date: str = '2022-12-23'\n",
    "    benchmark_ticker: str = '^IXIC' # (NASDAQ) #'SPY' # (S&P500)\n",
    "    synthetic_benchmark: bool = False#True\n",
    "    index_yearly_members = None # DF containing the index members for each year\n",
    "    ticker_csv: str = None\n",
    "    daily_price_csv: str = None\n",
    "    stats_csv: str = None\n",
    "    tickers: list = None\n",
    "    current_tickers = None\n",
    "    refresh_tickers: bool = False\n",
    "    refresh_data: bool = False #True\n",
    "    performance_measure: str = 'perf_score' #'tot_ret' # What we'll use to sort our return data\n",
    "    resample_period: str = 'M' #'M' #'W'\n",
    "    stop_type: str =  'indiv' #'avg'\n",
    "\n",
    "parameter_data = DataClassParameters()#qty_long_period=30,qty_med_period=20,qty_short_period=2,SMA_S=(10),SMA_L=(146), rolling_l=(11), rolling_m=(4),rolling_s=(9),stop=41)\n",
    "           "
   ]
  },
  {
   "cell_type": "code",
   "execution_count": 5,
   "metadata": {},
   "outputs": [
    {
     "name": "stdout",
     "output_type": "stream",
     "text": [
      "Loaded prices for 100 tickers.\n"
     ]
    }
   ],
   "source": [
    "\n",
    "all_daily_prices_df = pd.read_csv(daily_price_csv, index_col=['Date'], parse_dates=True)\n",
    "print(f'Loaded prices for {all_daily_prices_df.shape[1]} tickers.')\n",
    "daily_prices_df = all_daily_prices_df.copy()\n",
    "daily_prices_df['CASH'] = 0.0 # We set to 0 to simulate 0% return as alternative to other investments when they're negative\n"
   ]
  },
  {
   "cell_type": "code",
   "execution_count": 6,
   "metadata": {},
   "outputs": [
    {
     "name": "stdout",
     "output_type": "stream",
     "text": [
      "Retrieving price data for ^IXIC from 2010-01-01 - 2022-12-23\n",
      "Connecting to DB on rpi4.\n",
      "Latest price data for ^IXIC (2023-04-14) >= required end date (2022-12-23).\n",
      "(3268, 8)\n"
     ]
    },
    {
     "data": {
      "text/html": [
       "<div>\n",
       "<style scoped>\n",
       "    .dataframe tbody tr th:only-of-type {\n",
       "        vertical-align: middle;\n",
       "    }\n",
       "\n",
       "    .dataframe tbody tr th {\n",
       "        vertical-align: top;\n",
       "    }\n",
       "\n",
       "    .dataframe thead th {\n",
       "        text-align: right;\n",
       "    }\n",
       "</style>\n",
       "<table border=\"1\" class=\"dataframe\">\n",
       "  <thead>\n",
       "    <tr style=\"text-align: right;\">\n",
       "      <th></th>\n",
       "      <th>Adj_Close</th>\n",
       "      <th>daily_pct_returns</th>\n",
       "      <th>daily_log_returns</th>\n",
       "      <th>cum_daily_pct_returns</th>\n",
       "      <th>cum_daily_log_returns</th>\n",
       "      <th>cum_daily_unlog_returns</th>\n",
       "    </tr>\n",
       "    <tr>\n",
       "      <th>Date</th>\n",
       "      <th></th>\n",
       "      <th></th>\n",
       "      <th></th>\n",
       "      <th></th>\n",
       "      <th></th>\n",
       "      <th></th>\n",
       "    </tr>\n",
       "  </thead>\n",
       "  <tbody>\n",
       "    <tr>\n",
       "      <th>2022-12-12</th>\n",
       "      <td>11143.74</td>\n",
       "      <td>0.012642</td>\n",
       "      <td>0.012563</td>\n",
       "      <td>3.827432</td>\n",
       "      <td>1.574315</td>\n",
       "      <td>3.827432</td>\n",
       "    </tr>\n",
       "    <tr>\n",
       "      <th>2022-12-13</th>\n",
       "      <td>11256.81</td>\n",
       "      <td>0.010147</td>\n",
       "      <td>0.010095</td>\n",
       "      <td>3.876413</td>\n",
       "      <td>1.584410</td>\n",
       "      <td>3.876413</td>\n",
       "    </tr>\n",
       "    <tr>\n",
       "      <th>2022-12-14</th>\n",
       "      <td>11170.89</td>\n",
       "      <td>-0.007633</td>\n",
       "      <td>-0.007662</td>\n",
       "      <td>3.839193</td>\n",
       "      <td>1.576748</td>\n",
       "      <td>3.839193</td>\n",
       "    </tr>\n",
       "    <tr>\n",
       "      <th>2022-12-15</th>\n",
       "      <td>10810.53</td>\n",
       "      <td>-0.032259</td>\n",
       "      <td>-0.032791</td>\n",
       "      <td>3.683086</td>\n",
       "      <td>1.543957</td>\n",
       "      <td>3.683086</td>\n",
       "    </tr>\n",
       "    <tr>\n",
       "      <th>2022-12-16</th>\n",
       "      <td>10705.41</td>\n",
       "      <td>-0.009724</td>\n",
       "      <td>-0.009771</td>\n",
       "      <td>3.637549</td>\n",
       "      <td>1.534186</td>\n",
       "      <td>3.637549</td>\n",
       "    </tr>\n",
       "    <tr>\n",
       "      <th>2022-12-19</th>\n",
       "      <td>10546.03</td>\n",
       "      <td>-0.014888</td>\n",
       "      <td>-0.015000</td>\n",
       "      <td>3.568506</td>\n",
       "      <td>1.519186</td>\n",
       "      <td>3.568506</td>\n",
       "    </tr>\n",
       "    <tr>\n",
       "      <th>2022-12-20</th>\n",
       "      <td>10547.11</td>\n",
       "      <td>0.000102</td>\n",
       "      <td>0.000102</td>\n",
       "      <td>3.568974</td>\n",
       "      <td>1.519289</td>\n",
       "      <td>3.568974</td>\n",
       "    </tr>\n",
       "    <tr>\n",
       "      <th>2022-12-21</th>\n",
       "      <td>10709.37</td>\n",
       "      <td>0.015384</td>\n",
       "      <td>0.015267</td>\n",
       "      <td>3.639264</td>\n",
       "      <td>1.534556</td>\n",
       "      <td>3.639264</td>\n",
       "    </tr>\n",
       "    <tr>\n",
       "      <th>2022-12-22</th>\n",
       "      <td>10476.12</td>\n",
       "      <td>-0.021780</td>\n",
       "      <td>-0.022021</td>\n",
       "      <td>3.538221</td>\n",
       "      <td>1.512535</td>\n",
       "      <td>3.538221</td>\n",
       "    </tr>\n",
       "    <tr>\n",
       "      <th>2022-12-23</th>\n",
       "      <td>10497.86</td>\n",
       "      <td>0.002075</td>\n",
       "      <td>0.002073</td>\n",
       "      <td>3.547639</td>\n",
       "      <td>1.514608</td>\n",
       "      <td>3.547639</td>\n",
       "    </tr>\n",
       "  </tbody>\n",
       "</table>\n",
       "</div>"
      ],
      "text/plain": [
       "            Adj_Close  daily_pct_returns  daily_log_returns  \\\n",
       "Date                                                          \n",
       "2022-12-12   11143.74           0.012642           0.012563   \n",
       "2022-12-13   11256.81           0.010147           0.010095   \n",
       "2022-12-14   11170.89          -0.007633          -0.007662   \n",
       "2022-12-15   10810.53          -0.032259          -0.032791   \n",
       "2022-12-16   10705.41          -0.009724          -0.009771   \n",
       "2022-12-19   10546.03          -0.014888          -0.015000   \n",
       "2022-12-20   10547.11           0.000102           0.000102   \n",
       "2022-12-21   10709.37           0.015384           0.015267   \n",
       "2022-12-22   10476.12          -0.021780          -0.022021   \n",
       "2022-12-23   10497.86           0.002075           0.002073   \n",
       "\n",
       "            cum_daily_pct_returns  cum_daily_log_returns  \\\n",
       "Date                                                       \n",
       "2022-12-12               3.827432               1.574315   \n",
       "2022-12-13               3.876413               1.584410   \n",
       "2022-12-14               3.839193               1.576748   \n",
       "2022-12-15               3.683086               1.543957   \n",
       "2022-12-16               3.637549               1.534186   \n",
       "2022-12-19               3.568506               1.519186   \n",
       "2022-12-20               3.568974               1.519289   \n",
       "2022-12-21               3.639264               1.534556   \n",
       "2022-12-22               3.538221               1.512535   \n",
       "2022-12-23               3.547639               1.514608   \n",
       "\n",
       "            cum_daily_unlog_returns  \n",
       "Date                                 \n",
       "2022-12-12                 3.827432  \n",
       "2022-12-13                 3.876413  \n",
       "2022-12-14                 3.839193  \n",
       "2022-12-15                 3.683086  \n",
       "2022-12-16                 3.637549  \n",
       "2022-12-19                 3.568506  \n",
       "2022-12-20                 3.568974  \n",
       "2022-12-21                 3.639264  \n",
       "2022-12-22                 3.538221  \n",
       "2022-12-23                 3.547639  "
      ]
     },
     "execution_count": 6,
     "metadata": {},
     "output_type": "execute_result"
    }
   ],
   "source": [
    "#Benchmark return\n",
    "benchmark_price_df = pd.DataFrame(process_ticker(parameter_data.benchmark_ticker,parameter_data.benchmark_start_date,parameter_data.end_date)['Adj_Close'])#, name = benchmark) # Grab more data than we need since we'll be losing some to indicator warmup\n",
    "tot_retun = (benchmark_price_df.iloc[-1]['Adj_Close']/benchmark_price_df.iloc[0]['Adj_Close']) - 1\n",
    "benchmark_price_df['daily_pct_returns'] = benchmark_price_df.pct_change().fillna(0)\n",
    "benchmark_price_df['daily_log_returns'] = (np.log(benchmark_price_df['Adj_Close']).diff()).fillna(0)\n",
    "benchmark_price_df['cum_daily_pct_returns'] = (1 + benchmark_price_df['daily_pct_returns']).cumprod() - 1\n",
    "benchmark_price_df['cum_daily_log_returns'] = (benchmark_price_df['daily_log_returns']).cumsum()\n",
    "benchmark_price_df['cum_daily_unlog_returns'] = np.exp(benchmark_price_df['cum_daily_log_returns'])-1\n",
    "benchmark_price_df.tail(10)"
   ]
  },
  {
   "cell_type": "code",
   "execution_count": 7,
   "metadata": {},
   "outputs": [
    {
     "data": {
      "text/plain": [
       "{'total_simple_return': 3.5476386446140884,\n",
       " 'total_log_return': 3.547638644614066,\n",
       " 'total_simple_cum_return': 3.5476386446140884,\n",
       " 'total_log_cum_return': 3.547638644614066}"
      ]
     },
     "execution_count": 7,
     "metadata": {},
     "output_type": "execute_result"
    }
   ],
   "source": [
    "# Total Return Calculation Methods (they should all return the same value):\n",
    "benchmark_return_data = {}\n",
    "benchmark_return_data['total_simple_return'] = (1 + benchmark_price_df['daily_pct_returns']).prod() - 1\n",
    "benchmark_return_data['total_log_return'] = np.exp((benchmark_price_df['daily_log_returns']).sum()) - 1\n",
    "benchmark_return_data['total_simple_cum_return'] = (benchmark_price_df['cum_daily_pct_returns'][-1])\n",
    "benchmark_return_data['total_log_cum_return'] = np.exp(benchmark_price_df['cum_daily_log_returns'][-1]) -1\n",
    "benchmark_return_data"
   ]
  },
  {
   "cell_type": "code",
   "execution_count": 8,
   "metadata": {},
   "outputs": [],
   "source": [
    "# OLD RETURN CALC METHODS\n",
    "daily_returns_old = (daily_prices_df.pct_change()+1)[1:] # Adding 1 allows us to take the product of returns. Can't use cumsum though. This fucks things up for stocks that go to zero!\n",
    "weekly_returns_old = daily_returns_old.resample('W').prod() # Need to subtract 1 to get actual % returns.\n",
    "monthly_returns_old = daily_returns_old.resample('M').prod() # Need to subtract 1 to get actual % returns.\n",
    "\n"
   ]
  },
  {
   "cell_type": "code",
   "execution_count": 11,
   "metadata": {},
   "outputs": [
    {
     "name": "stdout",
     "output_type": "stream",
     "text": [
      "Date\n",
      "2010-01-31    0.000000\n",
      "2010-02-28    0.030587\n",
      "2010-03-31    0.046387\n",
      "2010-04-30   -0.031011\n",
      "2010-05-31   -0.026547\n",
      "Freq: M, dtype: float64\n",
      "Date\n",
      "2010-01-31   -0.058671\n",
      "2010-02-28    0.029696\n",
      "2010-03-31    0.044128\n",
      "2010-04-30   -0.032014\n",
      "2010-05-31   -0.027193\n",
      "Freq: M, dtype: float64\n",
      "Date\n",
      "2010-01-31    0.941329\n",
      "2010-02-28    1.029696\n",
      "2010-03-31    1.044128\n",
      "2010-04-30    0.967986\n",
      "2010-05-31    0.972807\n",
      "Freq: M, dtype: float64\n"
     ]
    },
    {
     "name": "stderr",
     "output_type": "stream",
     "text": [
      "/home/lantro/miniconda3/envs/algo/lib/python3.10/site-packages/pandas/core/internals/blocks.py:351: RuntimeWarning: divide by zero encountered in log\n",
      "  result = func(self.values, **kwargs)\n"
     ]
    }
   ],
   "source": [
    "# NEW METHODS - VERIFIED\n",
    "return_data = {}\n",
    "# Calculate daily returns\n",
    "daily_prices_df = daily_prices_df.loc[:,['ATVI','ADBE','ADP','ABNB','CASH']].copy()\n",
    "daily_pct_returns = (daily_prices_df.pct_change().fillna(0))#[1:]\n",
    "daily_log_returns = (np.log(daily_prices_df).diff()).fillna(0)\n",
    "cum_daily_pct_returns = (1 + daily_pct_returns).cumprod() - 1\n",
    "cum_daily_log_returns = (daily_log_returns).cumsum()\n",
    "\n",
    "# Monthly Returns \n",
    "monthly_prices = daily_prices_df.resample('M').agg(lambda x: x[-1]) # Resample to longer time frame, taking last value from each period using aggregation function\n",
    "monthly_manual_returns = ((monthly_prices / monthly_prices.shift(1)) - 1).fillna(0) # Manual percentage change calculation\n",
    "monthly_pct_returns = (monthly_prices.pct_change()).fillna(0) # Using pandas method\n",
    "monthly_pct_returns2 = ((daily_pct_returns+1).resample('M').prod()-1).fillna(0)\n",
    "monthly_log_returns = (daily_log_returns.resample('M').sum()).fillna(0)\n",
    "monthly_unlog_returns = (np.exp(daily_log_returns.resample('M').sum())-1).fillna(0)\n",
    "\n",
    "# Average returns across portfolio holdings\n",
    "avg_daily_pct_returns = daily_pct_returns.mean(axis=1)#.values[0] # Use this if you are using actual percentage returns\n",
    "avg_daily_log_returns = daily_log_returns.mean(axis=1)#.values[0] # Use this if you are using actual percentage returns\n",
    "avg_monthly_pct_returns = monthly_pct_returns.mean(axis=1)#.values[0] # Use this if you are using actual percentage returns\n",
    "avg_monthly_log_returns = monthly_log_returns.mean(axis=1)#.values[0] # Use this if you are using actual percentage returns\n",
    "avg_daily_gross_returns = 1 + monthly_log_returns.mean(axis=1) # Need to subtract 1 to get pct return\n",
    "\n",
    "# Total Returns:\n",
    "return_data['total_simple_return'] = (1 + daily_pct_returns).prod() - 1\n",
    "return_data['total_log_return'] = np.exp((daily_log_returns).sum()) - 1\n",
    "return_data['total_simple_cum_return'] = (cum_daily_pct_returns.iloc[-1])\n",
    "return_data['total_log_cum_return'] = np.exp(cum_daily_log_returns.iloc[-1]) -1\n",
    "\n",
    "# Print Results\n",
    "#print(f'{daily_pct_returns.head(5)}\\n{daily_log_returns.head(5)}')\n",
    "#print(f'{cum_daily_pct_returns.head(5)}\\n{cum_daily_log_returns.head(5)}')\n",
    "#print(f'{monthly_manual_returns.head(5)}\\n{monthly_pct_returns.head(5)}\\n{monthly_log_returns.head(5)}\\n{monthly_unlog_returns.head(5)}')\n",
    "#print(f'{monthly_pct_returns.head(5)}\\n{monthly_pct_returns2.head(5)}\\n{monthly_log_returns.head(5)}')\n",
    "#print(f'{daily_pct_returns.head()}\\n{avg_daily_pct_returns.head()}')\n",
    "#print(f'{avg_daily_pct_returns.head()}\\n{avg_daily_log_returns.head()}')\n",
    "print(f'{avg_monthly_pct_returns.head()}\\n{avg_monthly_log_returns.head()}\\n{avg_daily_gross_returns.head()}')\n",
    "\n"
   ]
  },
  {
   "cell_type": "code",
   "execution_count": null,
   "metadata": {},
   "outputs": [],
   "source": []
  },
  {
   "cell_type": "code",
   "execution_count": 10,
   "metadata": {},
   "outputs": [
    {
     "ename": "NameError",
     "evalue": "name 'monthly_return_pct_chg' is not defined",
     "output_type": "error",
     "traceback": [
      "\u001b[0;31m---------------------------------------------------------------------------\u001b[0m",
      "\u001b[0;31mNameError\u001b[0m                                 Traceback (most recent call last)",
      "\u001b[1;32m/home/lantro/Documents/Algo/Strategies/Using Pandas/Momentum/Multiple Timeframes/scratch_return_calcs.ipynb Cell 11\u001b[0m in \u001b[0;36m3\n\u001b[1;32m      <a href='vscode-notebook-cell:/home/lantro/Documents/Algo/Strategies/Using%20Pandas/Momentum/Multiple%20Timeframes/scratch_return_calcs.ipynb#X13sZmlsZQ%3D%3D?line=0'>1</a>\u001b[0m \u001b[39m#all_daily_prices_df.head()\u001b[39;00m\n\u001b[1;32m      <a href='vscode-notebook-cell:/home/lantro/Documents/Algo/Strategies/Using%20Pandas/Momentum/Multiple%20Timeframes/scratch_return_calcs.ipynb#X13sZmlsZQ%3D%3D?line=1'>2</a>\u001b[0m abnb_prices \u001b[39m=\u001b[39m daily_prices_df[\u001b[39m'\u001b[39m\u001b[39mABNB\u001b[39m\u001b[39m'\u001b[39m]\n\u001b[0;32m----> <a href='vscode-notebook-cell:/home/lantro/Documents/Algo/Strategies/Using%20Pandas/Momentum/Multiple%20Timeframes/scratch_return_calcs.ipynb#X13sZmlsZQ%3D%3D?line=2'>3</a>\u001b[0m abnb_returns \u001b[39m=\u001b[39m monthly_return_pct_chg[\u001b[39m'\u001b[39m\u001b[39mABNB\u001b[39m\u001b[39m'\u001b[39m]\n\u001b[1;32m      <a href='vscode-notebook-cell:/home/lantro/Documents/Algo/Strategies/Using%20Pandas/Momentum/Multiple%20Timeframes/scratch_return_calcs.ipynb#X13sZmlsZQ%3D%3D?line=4'>5</a>\u001b[0m \u001b[39mfor\u001b[39;00m date \u001b[39min\u001b[39;00m abnb_returns\u001b[39m.\u001b[39mindex:\n\u001b[1;32m      <a href='vscode-notebook-cell:/home/lantro/Documents/Algo/Strategies/Using%20Pandas/Momentum/Multiple%20Timeframes/scratch_return_calcs.ipynb#X13sZmlsZQ%3D%3D?line=5'>6</a>\u001b[0m     \u001b[39m#print(f'{date}:  {abnb_returns[date]}')\u001b[39;00m\n\u001b[1;32m      <a href='vscode-notebook-cell:/home/lantro/Documents/Algo/Strategies/Using%20Pandas/Momentum/Multiple%20Timeframes/scratch_return_calcs.ipynb#X13sZmlsZQ%3D%3D?line=6'>7</a>\u001b[0m     \u001b[39mif\u001b[39;00m abnb_returns[date] \u001b[39m>\u001b[39m \u001b[39m0\u001b[39m \u001b[39mand\u001b[39;00m abnb_returns[date\u001b[39m-\u001b[39m\u001b[39m1\u001b[39m\u001b[39m*\u001b[39mdate\u001b[39m.\u001b[39mfreq] \u001b[39m==\u001b[39m \u001b[39m0\u001b[39m:\n",
      "\u001b[0;31mNameError\u001b[0m: name 'monthly_return_pct_chg' is not defined"
     ]
    }
   ],
   "source": [
    "#all_daily_prices_df.head()\n",
    "abnb_prices = daily_prices_df['ABNB']\n",
    "abnb_returns = monthly_return_pct_chg['ABNB']\n",
    "\n",
    "for date in abnb_returns.index:\n",
    "    #print(f'{date}:  {abnb_returns[date]}')\n",
    "    if abnb_returns[date] > 0 and abnb_returns[date-1*date.freq] == 0:\n",
    "        print(f'Turned positive on {date}')"
   ]
  },
  {
   "cell_type": "code",
   "execution_count": null,
   "metadata": {},
   "outputs": [],
   "source": [
    "abnb_prices['2021-01-25':'2021-02-01']"
   ]
  },
  {
   "cell_type": "code",
   "execution_count": null,
   "metadata": {},
   "outputs": [],
   "source": [
    "abnb_returns['2020-11-30':'2021-03-31']"
   ]
  },
  {
   "cell_type": "code",
   "execution_count": null,
   "metadata": {},
   "outputs": [],
   "source": [
    "abnb_log_returns = monthly_log_returns['ABNB']\n",
    "abnb_log_returns['2020-11-30':'2021-03-31']"
   ]
  },
  {
   "cell_type": "code",
   "execution_count": null,
   "metadata": {},
   "outputs": [],
   "source": []
  }
 ],
 "metadata": {
  "kernelspec": {
   "display_name": "algo",
   "language": "python",
   "name": "python3"
  },
  "language_info": {
   "codemirror_mode": {
    "name": "ipython",
    "version": 3
   },
   "file_extension": ".py",
   "mimetype": "text/x-python",
   "name": "python",
   "nbconvert_exporter": "python",
   "pygments_lexer": "ipython3",
   "version": "3.10.4"
  },
  "orig_nbformat": 4,
  "vscode": {
   "interpreter": {
    "hash": "62bb783676ae497f81e9060465adc3f2309100a60ae452229526dad828621947"
   }
  }
 },
 "nbformat": 4,
 "nbformat_minor": 2
}
