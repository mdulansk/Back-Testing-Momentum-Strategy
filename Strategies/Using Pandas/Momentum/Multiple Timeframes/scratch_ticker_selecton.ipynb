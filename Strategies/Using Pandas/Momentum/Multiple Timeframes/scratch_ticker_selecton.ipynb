{
 "cells": [
  {
   "cell_type": "code",
   "execution_count": null,
   "metadata": {},
   "outputs": [],
   "source": [
    "import os\n",
    "import pandas as pd\n",
    "from dataclasses import dataclass"
   ]
  },
  {
   "cell_type": "code",
   "execution_count": null,
   "metadata": {},
   "outputs": [],
   "source": [
    "@dataclass\n",
    "class DataClassParameters:\n",
    "    benchmark_start_date: str = '2010-01-01'\n",
    "    start_date: str = '2010-01-01'#'2010-01-01'\n",
    "    end_date: str = '2022-12-23'\n",
    "    benchmark_ticker: str = '^IXIC' # (NASDAQ) #'SPY' # (S&P500)\n",
    "    synthetic_benchmark: bool = True#True\n",
    "    index_yearly_members = None # DF containing the index members for each year\n",
    "    ticker_csv: str = None\n",
    "    daily_price_csv: str = None\n",
    "    stats_csv: str = None\n",
    "    tickers: list = None\n",
    "    current_tickers = []"
   ]
  },
  {
   "cell_type": "code",
   "execution_count": null,
   "metadata": {},
   "outputs": [],
   "source": [
    "HOME_DIR = os.path.expanduser('~/')\n",
    "data_folder = f'{HOME_DIR}/Documents/Algo/Data'\n",
    "ticker_folder = f'{data_folder}/Tickers/Nasdaq-100'\n",
    "parameter_data = DataClassParameters()\n",
    "parameter_data.index_yearly_members = pd.read_csv(f'{ticker_folder}/nasdaq_yearly_members_2007-12-24_2023-03-12.csv', parse_dates=True, index_col=0) #This file contains yearly index members "
   ]
  },
  {
   "cell_type": "code",
   "execution_count": null,
   "metadata": {},
   "outputs": [],
   "source": [
    "parameter_data.index_yearly_members"
   ]
  },
  {
   "cell_type": "code",
   "execution_count": null,
   "metadata": {},
   "outputs": [],
   "source": [
    "date = '2010-09-30'\n",
    "print(f'Updating parameter_data.current_tickers: {len(parameter_data.current_tickers)}')\n",
    "parameter_data.current_tickers = (parameter_data.index_yearly_members.loc[:,parameter_data.index_yearly_members.loc[date] == True].loc[date]).index.values\n",
    "print(f'parameter_data.current_tickers: {len(parameter_data.current_tickers)}')\n",
    "#for t in parameter_data.current_tickers:\n",
    "    #   print(f'{t} in price_data: {t in price_data.stock_returns}')"
   ]
  },
  {
   "cell_type": "code",
   "execution_count": null,
   "metadata": {},
   "outputs": [],
   "source": []
  }
 ],
 "metadata": {
  "kernelspec": {
   "display_name": "algo",
   "language": "python",
   "name": "python3"
  },
  "language_info": {
   "codemirror_mode": {
    "name": "ipython",
    "version": 3
   },
   "file_extension": ".py",
   "mimetype": "text/x-python",
   "name": "python",
   "nbconvert_exporter": "python",
   "pygments_lexer": "ipython3",
   "version": "3.10.4"
  },
  "orig_nbformat": 4
 },
 "nbformat": 4,
 "nbformat_minor": 2
}
