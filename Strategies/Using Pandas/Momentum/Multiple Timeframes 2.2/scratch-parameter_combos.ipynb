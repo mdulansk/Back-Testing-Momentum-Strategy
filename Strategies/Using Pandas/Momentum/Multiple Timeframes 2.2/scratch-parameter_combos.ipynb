{
 "cells": [
  {
   "cell_type": "code",
   "execution_count": 9,
   "metadata": {},
   "outputs": [],
   "source": [
    "import os\n",
    "import time\n",
    "import pandas as pd"
   ]
  },
  {
   "cell_type": "code",
   "execution_count": 12,
   "metadata": {},
   "outputs": [],
   "source": [
    "HOME_DIR = os.path.expanduser('~/')\n",
    "script_path = '/home/lantro/Documents/Algo/Strategies/Using Pandas/Momentum/Multiple Timeframes 2.2'\n",
    "cached_data = script_path+'/'+'cached_data'\n",
    "stats_data = script_path+'/'+'stats'\n",
    "data_folder = f'{HOME_DIR}/Documents/Algo/Data'\n",
    "ticker_folder = f'{data_folder}/Tickers/Nasdaq-100'\n",
    "current_date = time.strftime(\"%Y.%m.%d.%H%M%S\")\n",
    "param_dict = {'rebal_int': 3, 'stop_type': 'indiv', 'stop': 40, 'qty_long_period': 25, 'qty_med_period': 20, 'qty_short_period': 10, 'SMA_L': 139, 'SMA_S': 9, 'rolling_l': 34, 'rolling_m': 16, 'rolling_s': 1}\n",
    "tested_combos_df = pd.read_csv(f'{script_path}/top_1000_df.csv', index_col=None, header=0)\n"
   ]
  },
  {
   "cell_type": "code",
   "execution_count": 13,
   "metadata": {},
   "outputs": [
    {
     "data": {
      "text/html": [
       "<div>\n",
       "<style scoped>\n",
       "    .dataframe tbody tr th:only-of-type {\n",
       "        vertical-align: middle;\n",
       "    }\n",
       "\n",
       "    .dataframe tbody tr th {\n",
       "        vertical-align: top;\n",
       "    }\n",
       "\n",
       "    .dataframe thead th {\n",
       "        text-align: right;\n",
       "    }\n",
       "</style>\n",
       "<table border=\"1\" class=\"dataframe\">\n",
       "  <thead>\n",
       "    <tr style=\"text-align: right;\">\n",
       "      <th></th>\n",
       "      <th>top_n</th>\n",
       "      <th>SMA_S</th>\n",
       "      <th>SMA_L</th>\n",
       "      <th>stop</th>\n",
       "      <th>rolling_l</th>\n",
       "      <th>rolling_m</th>\n",
       "      <th>rolling_s</th>\n",
       "      <th>tot_ret</th>\n",
       "      <th>cagr</th>\n",
       "      <th>sharpe</th>\n",
       "      <th>perf_score</th>\n",
       "      <th>max_dd</th>\n",
       "    </tr>\n",
       "  </thead>\n",
       "  <tbody>\n",
       "    <tr>\n",
       "      <th>0</th>\n",
       "      <td>(25, 20, 3)</td>\n",
       "      <td>1</td>\n",
       "      <td>139</td>\n",
       "      <td>80</td>\n",
       "      <td>15</td>\n",
       "      <td>15</td>\n",
       "      <td>1</td>\n",
       "      <td>104.91</td>\n",
       "      <td>0.44</td>\n",
       "      <td>6.48</td>\n",
       "      <td>679.82</td>\n",
       "      <td>-0.21</td>\n",
       "    </tr>\n",
       "  </tbody>\n",
       "</table>\n",
       "</div>"
      ],
      "text/plain": [
       "         top_n  SMA_S  SMA_L  stop  rolling_l  rolling_m  rolling_s  tot_ret  \\\n",
       "0  (25, 20, 3)      1    139    80         15         15          1   104.91   \n",
       "\n",
       "   cagr  sharpe  perf_score  max_dd  \n",
       "0  0.44    6.48      679.82   -0.21  "
      ]
     },
     "execution_count": 13,
     "metadata": {},
     "output_type": "execute_result"
    }
   ],
   "source": [
    "tested_combos_df.head(1)"
   ]
  },
  {
   "cell_type": "code",
   "execution_count": 7,
   "metadata": {},
   "outputs": [
    {
     "data": {
      "text/plain": [
       "{'rebal_int': 3,\n",
       " 'stop_type': 'indiv',\n",
       " 'stop': 40,\n",
       " 'qty_long_period': 25,\n",
       " 'qty_med_period': 20,\n",
       " 'qty_short_period': 10,\n",
       " 'SMA_L': 139,\n",
       " 'SMA_S': 9,\n",
       " 'rolling_l': 34,\n",
       " 'rolling_m': 16,\n",
       " 'rolling_s': 1}"
      ]
     },
     "execution_count": 7,
     "metadata": {},
     "output_type": "execute_result"
    }
   ],
   "source": [
    "sample_param_dict"
   ]
  },
  {
   "cell_type": "code",
   "execution_count": null,
   "metadata": {},
   "outputs": [],
   "source": []
  }
 ],
 "metadata": {
  "kernelspec": {
   "display_name": "algo",
   "language": "python",
   "name": "python3"
  },
  "language_info": {
   "codemirror_mode": {
    "name": "ipython",
    "version": 3
   },
   "file_extension": ".py",
   "mimetype": "text/x-python",
   "name": "python",
   "nbconvert_exporter": "python",
   "pygments_lexer": "ipython3",
   "version": "3.10.4"
  },
  "orig_nbformat": 4
 },
 "nbformat": 4,
 "nbformat_minor": 2
}
