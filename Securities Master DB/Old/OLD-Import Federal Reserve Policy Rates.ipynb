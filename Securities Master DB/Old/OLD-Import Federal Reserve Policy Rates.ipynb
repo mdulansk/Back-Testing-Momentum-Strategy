{
 "cells": [
  {
   "cell_type": "markdown",
   "metadata": {},
   "source": [
    "### Import Federal Reserve Policy Rates - All\n",
    "https://www.federalreserve.gov/datadownload/Choose.aspx?rel=PRATES"
   ]
  },
  {
   "cell_type": "code",
   "execution_count": null,
   "metadata": {},
   "outputs": [],
   "source": [
    "### References for reading this data:\n",
    "Loading OECD Data With Python: http://www.bondeconomics.com/2018/05/loading-oecd-data-with-python.html\n",
    "https://pandasdmx.readthedocs.io/en/stable/sdmx_tour.html\n",
    "https://pypi.org/project/xmlschema/  #Not sure if this is what I need.\n",
    "https://sdmx.org/?page_id=4345"
   ]
  },
  {
   "cell_type": "code",
   "execution_count": 61,
   "metadata": {},
   "outputs": [
    {
     "name": "stdout",
     "output_type": "stream",
     "text": [
      "/home/lantro/Documents/Data Science/Algo Trading/Securities Master DB/data/test.xml\n"
     ]
    }
   ],
   "source": [
    "import os\n",
    "import bs4 as bs\n",
    "import lxml\n",
    "from xml.etree import ElementTree\n",
    "#from xml.etree import ElementTree\n",
    "\n",
    "file_name = 'test.xml'\n",
    "full_file = os.path.abspath(os.path.join('data', file_name))\n",
    "print(full_file)\n"
   ]
  },
  {
   "cell_type": "code",
   "execution_count": 62,
   "metadata": {},
   "outputs": [],
   "source": [
    "#with open(infile, 'r') as f: #open with context manager in read mode\n",
    "    #contents = f.read() #read file contents into variable, then close file\n",
    "#print((f_contents[:1000]))\n",
    "#print(len(contents))\n",
    "#soup = bs.BeautifulSoup(contents,'lxml')\n",
    "#dom = ElementTree.parse(contents)\n",
    "#print(dom)"
   ]
  },
  {
   "cell_type": "code",
   "execution_count": 79,
   "metadata": {},
   "outputs": [
    {
     "ename": "SyntaxError",
     "evalue": "prefix 'frb' not found in prefix map (<string>)",
     "output_type": "error",
     "traceback": [
      "Traceback \u001b[0;36m(most recent call last)\u001b[0m:\n",
      "  File \u001b[1;32m\"/home/lantro/miniconda3/envs/algo/lib/python3.6/site-packages/IPython/core/interactiveshell.py\"\u001b[0m, line \u001b[1;32m3267\u001b[0m, in \u001b[1;35mrun_code\u001b[0m\n    exec(code_obj, self.user_global_ns, self.user_ns)\n",
      "  File \u001b[1;32m\"<ipython-input-79-52eb8e9ffb5b>\"\u001b[0m, line \u001b[1;32m2\u001b[0m, in \u001b[1;35m<module>\u001b[0m\n    rate_types = dom.findall('.//frb:Annotations')\n",
      "  File \u001b[1;32m\"/home/lantro/miniconda3/envs/algo/lib/python3.6/xml/etree/ElementTree.py\"\u001b[0m, line \u001b[1;32m696\u001b[0m, in \u001b[1;35mfindall\u001b[0m\n    return self._root.findall(path, namespaces)\n",
      "  File \u001b[1;32m\"/home/lantro/miniconda3/envs/algo/lib/python3.6/xml/etree/ElementPath.py\"\u001b[0m, line \u001b[1;32m304\u001b[0m, in \u001b[1;35mfindall\u001b[0m\n    return list(iterfind(elem, path, namespaces))\n",
      "  File \u001b[1;32m\"/home/lantro/miniconda3/envs/algo/lib/python3.6/xml/etree/ElementPath.py\"\u001b[0m, line \u001b[1;32m277\u001b[0m, in \u001b[1;35miterfind\u001b[0m\n    selector.append(ops[token[0]](next, token))\n",
      "  File \u001b[1;32m\"/home/lantro/miniconda3/envs/algo/lib/python3.6/xml/etree/ElementPath.py\"\u001b[0m, line \u001b[1;32m118\u001b[0m, in \u001b[1;35mprepare_descendant\u001b[0m\n    token = next()\n",
      "\u001b[0;36m  File \u001b[0;32m\"/home/lantro/miniconda3/envs/algo/lib/python3.6/xml/etree/ElementPath.py\"\u001b[0;36m, line \u001b[0;32m83\u001b[0;36m, in \u001b[0;35mxpath_tokenizer\u001b[0;36m\u001b[0m\n\u001b[0;31m    raise SyntaxError(\"prefix %r not found in prefix map\" % prefix)\u001b[0m\n",
      "\u001b[0;36m  File \u001b[0;32m\"<string>\"\u001b[0;36m, line \u001b[0;32munknown\u001b[0m\n\u001b[0;31mSyntaxError\u001b[0m\u001b[0;31m:\u001b[0m prefix 'frb' not found in prefix map\n"
     ]
    }
   ],
   "source": [
    "dom = ElementTree.parse(full_file)\n",
    "rate_types = dom.findall('.//frb:Annotations')\n",
    "for frb in rate_types:\n",
    "    print(frb.text)"
   ]
  },
  {
   "cell_type": "code",
   "execution_count": 60,
   "metadata": {},
   "outputs": [],
   "source": [
    "#dom = ElementTree.parse(file_name)\n",
    "#courses = dom.findall('course')"
   ]
  },
  {
   "cell_type": "code",
   "execution_count": 4,
   "metadata": {},
   "outputs": [
    {
     "ename": "NameError",
     "evalue": "name 'num' is not defined",
     "output_type": "error",
     "traceback": [
      "\u001b[0;31m---------------------------------------------------------------------------\u001b[0m",
      "\u001b[0;31mNameError\u001b[0m                                 Traceback (most recent call last)",
      "\u001b[0;32m<ipython-input-4-c8d731bacaab>\u001b[0m in \u001b[0;36m<module>\u001b[0;34m\u001b[0m\n\u001b[1;32m      3\u001b[0m     \u001b[0mnum\u001b[0m \u001b[0;34m=\u001b[0m \u001b[0mc\u001b[0m\u001b[0;34m.\u001b[0m\u001b[0mfind\u001b[0m\u001b[0;34m(\u001b[0m\u001b[0;34m'crse'\u001b[0m\u001b[0;34m)\u001b[0m\u001b[0;34m.\u001b[0m\u001b[0mtext\u001b[0m\u001b[0;34m\u001b[0m\u001b[0m\n\u001b[1;32m      4\u001b[0m     \u001b[0mdays\u001b[0m \u001b[0;34m=\u001b[0m \u001b[0mc\u001b[0m\u001b[0;34m.\u001b[0m\u001b[0mfind\u001b[0m\u001b[0;34m(\u001b[0m\u001b[0;34m'days'\u001b[0m\u001b[0;34m)\u001b[0m\u001b[0;34m.\u001b[0m\u001b[0mtext\u001b[0m\u001b[0;34m\u001b[0m\u001b[0m\n\u001b[0;32m----> 5\u001b[0;31m \u001b[0mprint\u001b[0m\u001b[0;34m(\u001b[0m\u001b[0;34m' * {} [{}] {}'\u001b[0m\u001b[0;34m.\u001b[0m\u001b[0mformat\u001b[0m \u001b[0;34m(\u001b[0m\u001b[0mnum\u001b[0m\u001b[0;34m,\u001b[0m\u001b[0mdays\u001b[0m\u001b[0;34m,\u001b[0m\u001b[0mtitle\u001b[0m\u001b[0;34m)\u001b[0m\u001b[0;34m)\u001b[0m\u001b[0;34m\u001b[0m\u001b[0m\n\u001b[0m",
      "\u001b[0;31mNameError\u001b[0m: name 'num' is not defined"
     ]
    }
   ],
   "source": [
    "for c in courses:\n",
    "    title = c.find('title').text\n",
    "    num = c.find('crse').text\n",
    "    days = c.find('days').text\n",
    "print(' * {} [{}] {}'.format (num,days,title))"
   ]
  },
  {
   "cell_type": "code",
   "execution_count": null,
   "metadata": {},
   "outputs": [],
   "source": []
  },
  {
   "cell_type": "code",
   "execution_count": null,
   "metadata": {},
   "outputs": [],
   "source": []
  }
 ],
 "metadata": {
  "kernelspec": {
   "display_name": "Python 3",
   "language": "python",
   "name": "python3"
  },
  "language_info": {
   "codemirror_mode": {
    "name": "ipython",
    "version": 3
   },
   "file_extension": ".py",
   "mimetype": "text/x-python",
   "name": "python",
   "nbconvert_exporter": "python",
   "pygments_lexer": "ipython3",
   "version": "3.6.6"
  }
 },
 "nbformat": 4,
 "nbformat_minor": 4
}
