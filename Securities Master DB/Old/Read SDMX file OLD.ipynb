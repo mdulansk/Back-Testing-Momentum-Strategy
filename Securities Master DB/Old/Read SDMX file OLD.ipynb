{
 "cells": [
  {
   "cell_type": "markdown",
   "metadata": {},
   "source": [
    "# Read SDMX File"
   ]
  },
  {
   "cell_type": "code",
   "execution_count": 1,
   "metadata": {},
   "outputs": [
    {
     "ename": "ModuleNotFoundError",
     "evalue": "No module named 'sdmx'",
     "output_type": "error",
     "traceback": [
      "\u001b[0;31m---------------------------------------------------------------------------\u001b[0m",
      "\u001b[0;31mModuleNotFoundError\u001b[0m                       Traceback (most recent call last)",
      "\u001b[0;32m<ipython-input-1-f48126952a89>\u001b[0m in \u001b[0;36m<module>\u001b[0;34m\u001b[0m\n\u001b[1;32m      1\u001b[0m \u001b[0;32mimport\u001b[0m \u001b[0msys\u001b[0m\u001b[0;34m\u001b[0m\u001b[0m\n\u001b[0;32m----> 2\u001b[0;31m \u001b[0;32mimport\u001b[0m \u001b[0msdmx\u001b[0m\u001b[0;34m\u001b[0m\u001b[0m\n\u001b[0m\u001b[1;32m      3\u001b[0m \u001b[0;34m\u001b[0m\u001b[0m\n\u001b[1;32m      4\u001b[0m \u001b[0mdataset_path\u001b[0m \u001b[0;34m=\u001b[0m \u001b[0;34m'/home/lantro/Documents/Data Science/Algo Trading/Data/FRB_PRATES/PRATES_data.xml'\u001b[0m\u001b[0;34m\u001b[0m\u001b[0m\n\u001b[1;32m      5\u001b[0m \u001b[0mdsd_path\u001b[0m \u001b[0;34m=\u001b[0m \u001b[0;34m'/home/lantro/Documents/Data Science/Algo Trading/Data/FRB_PRATES/frb_common.xsd'\u001b[0m\u001b[0;34m\u001b[0m\u001b[0m\n",
      "\u001b[0;31mModuleNotFoundError\u001b[0m: No module named 'sdmx'"
     ]
    }
   ],
   "source": [
    "import sys\n",
    "import sdmx\n",
    "\n",
    "dataset_path = '/home/lantro/Documents/Data Science/Algo Trading/Data/FRB_PRATES/PRATES_data.xml'\n",
    "dsd_path = '/home/lantro/Documents/Data Science/Algo Trading/Data/FRB_PRATES/frb_common.xsd'\n",
    "\n",
    "def main(dataset_path,dsd_path):\n",
    "    #dataset_path = sys.argv[1]\n",
    "    #dsd_path = sys.argv[2]\n",
    "\n",
    "    with open(dataset_path) as dataset_fileobj:\n",
    "        with open(dsd_path) as dsd_fileobj:\n",
    "            dataset_reader = sdmx.generic_data_message_reader(\n",
    "                fileobj=dataset_fileobj,\n",
    "                dsd_fileobj=dsd_fileobj,\n",
    "            )\n",
    "            _print_values(dataset_reader)\n",
    "\n",
    "\n",
    "def _print_values(dataset_reader):\n",
    "    for dataset in dataset_reader.datasets():\n",
    "        key_family = dataset.key_family()\n",
    "        name = key_family.name(lang=\"en\")\n",
    "\n",
    "        print(name)\n",
    "\n",
    "        dimension_names = key_family.describe_dimensions(lang=\"en\") + [\"Time\", \"Value\"]\n",
    "\n",
    "        for series in dataset.series():\n",
    "            row_template = []\n",
    "            key = series.describe_key(lang=\"en\")\n",
    "            for key_name, key_value in key.iteritems():\n",
    "                row_template.append(key_value)\n",
    "\n",
    "            for observation in series.observations(lang=\"en\"):\n",
    "                row = row_template[:]\n",
    "                row.append(observation.time)\n",
    "                row.append(observation.value)\n",
    "\n",
    "                print(zip(dimension_names, row))\n",
    "\n",
    "\n",
    "main(dataset_path,dsd_path)"
   ]
  },
  {
   "cell_type": "code",
   "execution_count": null,
   "metadata": {},
   "outputs": [],
   "source": []
  }
 ],
 "metadata": {
  "kernelspec": {
   "display_name": "Python 3",
   "language": "python",
   "name": "python3"
  },
  "language_info": {
   "codemirror_mode": {
    "name": "ipython",
    "version": 3
   },
   "file_extension": ".py",
   "mimetype": "text/x-python",
   "name": "python",
   "nbconvert_exporter": "python",
   "pygments_lexer": "ipython3",
   "version": "3.6.6"
  }
 },
 "nbformat": 4,
 "nbformat_minor": 4
}
