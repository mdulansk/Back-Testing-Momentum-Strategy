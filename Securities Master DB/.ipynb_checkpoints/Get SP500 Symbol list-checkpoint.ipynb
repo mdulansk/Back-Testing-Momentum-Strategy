{
 "cells": [
  {
   "cell_type": "markdown",
   "metadata": {},
   "source": [
    "# Securities Master Database with MySQL and Python\n",
    "from https://www.quantstart.com/articles/Securities-Master-Database-with-MySQL-and-Python"
   ]
  },
  {
   "cell_type": "markdown",
   "metadata": {},
   "source": [
    "<h3>Overview of required steps:  </h3>\n",
    "<H4>Get list of S&P500 companies</br>\n",
    "    <>Get OHLC quotes for those companies</br>\n",
    "    Get values for S&P500 benchmark</br>\n",
    "    Get values for economic indicators: GDP, bond yield spread, bond yields, consumer confidence, home sales, auto sales, ...</br>\n",
    "    Create function to determine the greatest correlation (R) between each indicator and subsequent S&P500 performance for different periods of lag</br>\n",
    "    Rank indicators by score</br>\n",
    "    Advanced:</br>\n",
    "      Use machine learning to determine which indicators are most relevant: SPSS?, PCA?</br>\n",
    "      Use machine learning to predict when to buy / hold / sell S&P500 using indicators</br>\n",
    "      Use machine learning to determine allocation of capital/leverage to S&P500 using indiCators</br>\n",
    "</H4>\n",
    "<H4><b>Notes:</b></br>\n",
    "  \"R\" represents the relationship (correlation) between 2 variables and indicates if the correlation is negative or positive: -1 to +1</br>\n",
    "  \"R-squared\" is just the square of \"R\". It's easier to interpret since is represents the percentage of the variation in data explained by the relationship between two variables. However, r-squared doesn't tell you if the relationship is positive or negative.</h4>"
   ]
  },
  {
   "cell_type": "markdown",
   "metadata": {},
   "source": [
    "### Installing MySQL\n",
    "\n",
    "#### To install MySQL please choose the appropriate platform:\n",
    "\n",
    "    Windows - To read about the installation procedure for installing MySQL on Microsoft Windows, please take a look at the MySQL documentation. To find the downloadable binaries for Windows, please take a look at this page.\n",
    "    Mac OSX - You can download the binaries for Mac OSX at the MySQL downloads page. Alternatively, you can install MySQL via homebrew. This tutorial is useful for getting started.\n",
    "    Linux/UNIX - You have the choice of either downloading a binary from your distribution or compiling from source. On a Debian/Ubuntu system you can type sudo apt-get install mysql-server. If you are on a RPM-based distribution such as Fedora or Cent OS, you can type yum install mysql-server. To build MySQL from the source code (brave!) please look here.\n",
    "NOTE: When installing mysql, you will be prompted for a password. If you don't set, it will have a blank password which you'll need to set later - total pain in the ass. See https://www.percona.com/blog/2016/05/18/where-is-the-mysql-5-7-root-password/"
   ]
  },
  {
   "cell_type": "markdown",
   "metadata": {},
   "source": [
    "### Creating a New Database and User\n",
    "\n",
    "Now that MySQL is installed on your system we can create a new database and a user to interact with it. You will have been prompted for a root password on installation. To log on to MySQL from the command line use the following line and then enter your password:\n",
    "\n",
    "#### $ mysql -u root -p\n",
    "\n",
    "Once you have logged in to the MySQL you can create a new database called securities_master and then select it:\n",
    "\n",
    "mysql> CREATE DATABASE securities_master;<br>\n",
    "mysql> USE securities_master;\n",
    "\n",
    "Once you create a database it is necessary to add a new user to interact with the database. While you can use the root user, it is considered bad practice from a security point of view, as it grants too many permissions and can lead to a compromised system. On a local machine this is mostly irrelevant, but in a remote production environment you will certainly need to create a user with reduced permissions. In this instance our user will be called sec_user. Remember to replace password with a secure password:\n",
    "\n",
    "mysql> CREATE USER 'sec_user'@'localhost' IDENTIFIED BY 'securities';<br>\n",
    "mysql> GRANT ALL PRIVILEGES ON securities_master.* TO 'sec_user'@'localhost';<br>\n",
    "mysql> FLUSH PRIVILEGES;\n",
    "\n",
    "The above three lines create and authorise the user to use securities_master and apply those privileges. From now on any interaction that occurs with the database will make use of the sec_user user."
   ]
  },
  {
   "cell_type": "markdown",
   "metadata": {},
   "source": [
    "Schema Design for Equities Securities Master\n",
    "\n",
    "We've now installed MySQL and have configured a user with which to interact with our database. At this stage we are ready to construct the necessary tables to hold our financial data. For a simple, straightforward equities master we will create four tables:\n",
    "\n",
    "    Exchange - The exchange table lists the exchanges we wish to obtain equities pricing information from. In this instance it will almost exclusively be the New York Stock Exchange (NYSE) and the National Association of Securities Dealers Automated Quotations (NASDAQ).\n",
    "    DataVendor - This table lists information about historical pricing data vendors. We will be using Yahoo Finance to source our end-of-day (EOD) data. By introducing this table, we make it straightforward to add more vendors if necessary, such as Google Finance.\n",
    "    Symbol - The symbol table stores the list of ticker symbols and company information. Right now we will be avoiding issues such as differing share classes and multiple symbol names. We will cover such issues in later articles!\n",
    "    DailyPrice - This table stores the daily pricing information for each security. It can become very large if many securities are added. Hence it is necessary to optimise it for performance.\n",
    "\n",
    "MySQL is an extremely flexible database in that it allows you to customise how the data is stored in an underlying storage engine. The two primary contenders in MySQL are MyISAM and InnoDB. Although I won't go into the details of storage engines (of which there are many!), I will say that MyISAM is more useful for fast reading (such as querying across large amounts of price information), but it doesn't support transactions (necessary to fully rollback a multi-step operation that fails mid way through). InnoDB, while transaction safe, is slower for reads.\n",
    "\n",
    "InnoDB also allows row-level locking when making writes, while MyISAM locks the entire table when writing to it. This can have performance issues when writing a lot of information to arbitrary points in the table (such as with UPDATE statements). This is a deep topic, so I will leave the discussion to another day!\n",
    "\n",
    "We are going to use InnoDB as it is natively transaction safe and provides row-level locking. If we find that a table is slow to be read, we can create indexes as a first step and then change the underlying storage engine if performance is still an issue. All of our tables will use the UTF-8 character set, as we wish to support international exchanges. You can read more about UTF-8 encoding at this Wikipedia page.\n",
    "\n",
    "Let's begin with the schema and CREATE TABLE SQL code for the exchange table. It stores the abbreviation and name of the exchange (i.e. NYSE - New York Stock Exchange) as well as the geographic location. It also supports a currency and a timezone offset from UTC. We also store a created and last updated date for our own internal purposes. Finally, we set the primary index key to be an auto-incrementing integer ID (which is sufficient to handle 232\n",
    "\n",
    "records):\n",
    "\n",
    "CREATE TABLE `exchange` (\n",
    "  `id` int NOT NULL AUTO_INCREMENT,\n",
    "  `abbrev` varchar(32) NOT NULL,\n",
    "  `name` varchar(255) NOT NULL,\n",
    "  `city` varchar(255) NULL,\n",
    "  `country` varchar(255) NULL,\n",
    "  `currency` varchar(64) NULL,\n",
    "  `timezone_offset` time NULL,\n",
    "  `created_date` datetime NOT NULL,\n",
    "  `last_updated_date` datetime NOT NULL,\n",
    "  PRIMARY KEY (`id`)\n",
    ") ENGINE=InnoDB AUTO_INCREMENT=1 DEFAULT CHARSET=utf8;\n",
    "\n",
    "Here is the schema and CREATE TABLE SQL code for the data_vendor table. It stores the name, website and support email. In time we can add more useful information for the vendor, such as an API endpoint URL:\n",
    "\n",
    "CREATE TABLE `data_vendor` (\n",
    "  `id` int NOT NULL AUTO_INCREMENT,\n",
    "  `name` varchar(64) NOT NULL,\n",
    "  `website_url` varchar(255) NULL,\n",
    "  `support_email` varchar(255) NULL,\n",
    "  `created_date` datetime NOT NULL,\n",
    "  `last_updated_date` datetime NOT NULL,\n",
    "  PRIMARY KEY (`id`)\n",
    ") ENGINE=InnoDB AUTO_INCREMENT=1 DEFAULT CHARSET=utf8;\n",
    "\n",
    "Here is the schema and CREATE TABLE SQL code for the symbol table. It contains a foreign key link to an exchange (we will only be supporting exchange-traded instruments for this article), a ticker symbol (e.g. GOOG), an instrument type ('stock' or 'index'), the name of the stock or stock market index, an equities sector and a currency.\n",
    "\n",
    "CREATE TABLE `symbol` (\n",
    "  `id` int NOT NULL AUTO_INCREMENT,\n",
    "  `exchange_id` int NULL,\n",
    "  `ticker` varchar(32) NOT NULL,\n",
    "  `instrument` varchar(64) NOT NULL,\n",
    "  `name` varchar(255) NULL,\n",
    "  `sector` varchar(255) NULL,\n",
    "  `currency` varchar(32) NULL,\n",
    "  `created_date` datetime NOT NULL,\n",
    "  `last_updated_date` datetime NOT NULL,\n",
    "  PRIMARY KEY (`id`),\n",
    "  KEY `index_exchange_id` (`exchange_id`)\n",
    ") ENGINE=InnoDB AUTO_INCREMENT=1 DEFAULT CHARSET=utf8;\n",
    "\n",
    "Here is the schema and CREATE TABLE SQL code for the daily_price table. This table is where the historical pricing data is actually stored. We have prefixed the table name with daily_ as we may wish to create minute or second resolution data in separate tables at a later date for higher frequency strategies. The table contains two foreign keys - one to the data vendor and another to a symbol. This uniquely identifies the data point and allows us to store the same price data for multiple vendors in the same table. We also store a price date (i.e. the daily period over which the OHLC data is valid) and the created and last updated dates for our own purposes.\n",
    "\n",
    "The remaining fields store the open-high-low-close and adjusted close prices. Yahoo Finance provides dividend and stock splits for us, the price of which ends up in the adj_close_price column. Notice that the datatype is decimal(19,4). When dealing with financial data it is absolutely necessary to be precise. If we had used the float datatype we would end up with rounding errors due to the nature of how float data is stored internally. The final field stores the trading volume for the day. This uses the bigint datatype so that we don't accidentally truncate extremely high volume days.\n",
    "\n",
    "CREATE TABLE `daily_price` (\n",
    "  `id` int NOT NULL AUTO_INCREMENT,\n",
    "  `data_vendor_id` int NOT NULL,\n",
    "  `symbol_id` int NOT NULL,\n",
    "  `price_date` datetime NOT NULL,\n",
    "  `created_date` datetime NOT NULL,\n",
    "  `last_updated_date` datetime NOT NULL,\n",
    "  `open_price` decimal(19,4) NULL,\n",
    "  `high_price` decimal(19,4) NULL,\n",
    "  `low_price` decimal(19,4) NULL,\n",
    "  `close_price` decimal(19,4) NULL,\n",
    "  `adj_close_price` decimal(19,4) NULL,\n",
    "  `volume` bigint NULL,\n",
    "  PRIMARY KEY (`id`),\n",
    "  KEY `index_data_vendor_id` (`data_vendor_id`),\n",
    "  KEY `index_synbol_id` (`symbol_id`)\n",
    ") ENGINE=InnoDB AUTO_INCREMENT=1 DEFAULT CHARSET=utf8;\n",
    "\n",
    "By entering all of the above SQL commands into the MySQL command line the four necessary tables will be created.\n"
   ]
  },
  {
   "cell_type": "markdown",
   "metadata": {},
   "source": [
    "## Using Python/pandas for Securities Master Interaction\n",
    "\n",
    "In order to begin populating the securities master it is necessary to install Python and pandas.  \n",
    ">source activate algo  \n",
    ">conda install pandas\n"
   ]
  },
  {
   "cell_type": "markdown",
   "metadata": {},
   "source": [
    "### Obtaining Listed Symbols Data\n",
    "\n",
    "Let's begin by obtaining all of the ticker symbols associated with the Standard & Poor's list of 500 large-cap stocks, i.e. the S&P500. Of course, this is simply an example. If you are trading from the UK and wish to use UK domestic indices, you could equally well obtain the list of FTSE100 companies traded on the London Stock Exchange (LSE).\n",
    "\n",
    "Wikipedia conveniently lists the constituents of the S&P500. We will scrape this website using the Python lxml library and add the content directly to MySQL. Firstly make sure the library is installed:\n",
    "\n",
    ">source activate algo  \n",
    ">conda install lxml\n",
    "\n"
   ]
  },
  {
   "cell_type": "markdown",
   "metadata": {},
   "source": [
    "The final step is to install the Python-MySQL library. On Mac OSX/UNIX flavour machines we need to run the following commands:\n",
    "\n",
    ">source activate algo  \n",
    ">sudo apt-get install libmysqlclient-dev  \n",
    ">conda install mysqlclient"
   ]
  },
  {
   "cell_type": "markdown",
   "metadata": {},
   "source": [
    "### The following code will use the lxml library and add the symbols directly to the MySQL database we created earlier. Remember to replace 'password' with your chosen password as created above:"
   ]
  },
  {
   "cell_type": "code",
   "execution_count": 32,
   "metadata": {},
   "outputs": [],
   "source": [
    "#!/usr/bin/python\n",
    "# -*- coding: utf-8 -*-\n",
    "\n",
    "import datetime\n",
    "import lxml.html\n",
    "#import requests\n",
    "import bs4 as bs\n",
    "#import _mysql as mdb\n",
    "import MySQLdb as mdb # https://github.com/PyMySQL/mysqlclient-python/blob/master/doc/user_guide.rst#cursor-objects\n",
    "\n",
    "from math import ceil\n",
    "get_snp500_symbols = False # Set to True when you want to gather the latest symbols for companies in the S&P500 from the Wikipedia page\n",
    "\n",
    "db_host = 'localhost'\n",
    "db_user = 'sec_user'\n",
    "db_pass = 'securities'\n",
    "db_name = 'securities_master'\n",
    "unix_socket = \"/var/run/mysqld/mysqld.sock\"\n",
    "\n",
    "benchmarks = ['^DJI','^GSPC','^IXIC','^RUT']\n",
    "\n",
    "def obtain_parse_wiki_snp500():\n",
    "  \"\"\"Download and parse the Wikipedia list of S&P500 \n",
    "  constituents using requests and libxml.\n",
    "\n",
    "  Returns a list of tuples for to add to MySQL.\"\"\"\n",
    "\n",
    "  # Stores the current time, for the created_at record\n",
    "  now = datetime.datetime.utcnow()\n",
    "\n",
    "  #Outdated Crap\n",
    "  # Use libxml to download the list of S&P500 companies and obtain the symbol table\n",
    "  #from lxml import html\n",
    "  #url = 'https://en.wikipedia.org/wiki/List_of_S%26P_500_companies'\n",
    "  #response = requests.get(url)\n",
    "  #page = lxml.html.fromstring(response.content)\n",
    "  #symbolslist = page.xpath('//table[1]/tr')[1:]\n",
    "\n",
    "  resp = requests.get('http://en.wikipedia.org/wiki/List_of_S%26P_500_companies')\n",
    "  soup = bs.BeautifulSoup(resp.text, 'lxml')\n",
    "  table = soup.find('table', {'class': 'wikitable sortable'})\n",
    "  tickers = []\n",
    "  symbols = []\n",
    "  for row in table.findAll('tr')[1:]:\n",
    "    ticker = row.findAll('td')\n",
    "    ticker_test = (row.findAll('td')[0].text.strip())\n",
    "    #print('Found ticker %s ' % ticker_test)\n",
    "    tickers.append(ticker_test)\n",
    "    sd = {'ticker': ticker[0].text.strip(),\n",
    "        'name': ticker[1].text.strip(),\n",
    "        'sector': ticker[3].text.strip()}\n",
    "  # Obtain the symbol information for each row in the S&P500 constituent table\n",
    "  \n",
    "    symbols.append( (sd['ticker'], 'stock', sd['name'], \n",
    "      sd['sector'], 'USD', now, now) )\n",
    "  return symbols\n",
    "  \n",
    "\n",
    "def insert_snp500_symbols(symbols):\n",
    "  \"\"\"Insert the S&P500 symbols into the MySQL database.\"\"\"\n",
    "  dbconn = mdb.connect(host=\"localhost\",unix_socket=unix_socket,user=\"sec_user\",passwd=\"securities\",db=\"securities_master\")\n",
    "\n",
    "  # Create the insert strings\n",
    "  column_str = \"ticker, instrument, name, sector, currency, created_date, last_updated_date\"\n",
    "  insert_str = (\"%s, \" * 7)[:-2]\n",
    "  final_str = \"INSERT INTO symbol (%s) VALUES (%s)\" % (column_str, insert_str)\n",
    "  #print('final_str: %s, insert_str: %s, len(symbols): %s' % (final_str, insert_str, len(symbols)))\n",
    "  #print(symbols[0])\n",
    "  cur = dbconn.cursor()\n",
    "  print(\"Adding %s symbols to DB\" % len(symbols))\n",
    "  for i in range(0, int(ceil(len(symbols) / 100.0))):\n",
    "    #print(final_str, symbols[i*100:(i+1)*100-1])\n",
    "    cur.executemany(final_str, symbols[i*100:(i+1)*100-1])\n",
    "  cur.close()\n",
    "  dbconn.commit()\n",
    "\n",
    "  # Using the MySQL connection, carry out an INSERT INTO for every symbol\n",
    "  '''with con: \n",
    "    cur = con.cursor()\n",
    "    # This line avoids the MySQL MAX_PACKET_SIZE\n",
    "    # Although of course it could be set larger!\n",
    "    for i in range(0, int(ceil(len(symbols) / 100.0))):\n",
    "      cur.executemany(final_str, symbols[i*100:(i+1)*100-1])\n",
    "'''\n"
   ]
  },
  {
   "cell_type": "markdown",
   "metadata": {},
   "source": [
    "At this stage all 500 current symbol constituents of the S&P500 index are in the database. Our next task is to actually obtain the historical data from separate sources and match it up the symbols."
   ]
  },
  {
   "cell_type": "code",
   "execution_count": 33,
   "metadata": {},
   "outputs": [],
   "source": [
    "def insert_benchmarks(benchmarks):\n",
    "    symbols = []\n",
    "    now = datetime.datetime.utcnow()\n",
    "    for ticker in benchmarks:\n",
    "        symbols.append( (ticker, 'index', ticker, 'None', 'USD', now, now) ) #Add the required fields for the db insert\n",
    "    dbconn = mdb.connect(host=\"localhost\",unix_socket=unix_socket,user=\"sec_user\",passwd=\"securities\",db=\"securities_master\")\n",
    "    column_str = \"ticker, instrument, name, sector, currency, created_date, last_updated_date\"\n",
    "    insert_str = (\"%s, \" * 7)[:-2]\n",
    "    final_str = \"INSERT INTO symbol (%s) VALUES (%s)\" % (column_str, insert_str)\n",
    "    cur = dbconn.cursor()\n",
    "    print(\"Adding %s symbols to DB\" % len(symbols))\n",
    "    for i in range(0, int(ceil(len(symbols) / 100.0))):\n",
    "        #print(final_str, symbols[i*100:(i+1)*100-1])\n",
    "        cur.executemany(final_str, symbols[i*100:(i+1)*100-1])\n",
    "    cur.close()\n",
    "    dbconn.commit()"
   ]
  },
  {
   "cell_type": "code",
   "execution_count": 34,
   "metadata": {},
   "outputs": [
    {
     "name": "stdout",
     "output_type": "stream",
     "text": [
      "Adding 7 symbols to DB\n"
     ]
    }
   ],
   "source": [
    "bench_symbols = ['^DJI','^GSPC','^IXIC','^RUT','^VIX','^TNX','^TYX']\n",
    "#if __name__ == \"__main__\":\n",
    "if get_snp500_symbols == True:\n",
    "  symbols = obtain_parse_wiki_snp500()\n",
    "  print(symbols)\n",
    "  insert_snp500_symbols(symbols)\n",
    "insert_benchmarks(bench_symbols)"
   ]
  },
  {
   "cell_type": "code",
   "execution_count": null,
   "metadata": {},
   "outputs": [],
   "source": []
  },
  {
   "cell_type": "code",
   "execution_count": null,
   "metadata": {},
   "outputs": [],
   "source": []
  },
  {
   "cell_type": "code",
   "execution_count": null,
   "metadata": {},
   "outputs": [],
   "source": []
  },
  {
   "cell_type": "code",
   "execution_count": null,
   "metadata": {},
   "outputs": [],
   "source": []
  },
  {
   "cell_type": "code",
   "execution_count": null,
   "metadata": {},
   "outputs": [],
   "source": []
  },
  {
   "cell_type": "code",
   "execution_count": null,
   "metadata": {},
   "outputs": [],
   "source": []
  },
  {
   "cell_type": "code",
   "execution_count": null,
   "metadata": {},
   "outputs": [],
   "source": []
  },
  {
   "cell_type": "code",
   "execution_count": null,
   "metadata": {},
   "outputs": [],
   "source": []
  }
 ],
 "metadata": {
  "kernelspec": {
   "display_name": "Python 3",
   "language": "python",
   "name": "python3"
  },
  "language_info": {
   "codemirror_mode": {
    "name": "ipython",
    "version": 3
   },
   "file_extension": ".py",
   "mimetype": "text/x-python",
   "name": "python",
   "nbconvert_exporter": "python",
   "pygments_lexer": "ipython3",
   "version": "3.6.6"
  }
 },
 "nbformat": 4,
 "nbformat_minor": 4
}
