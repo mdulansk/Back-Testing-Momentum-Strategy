{
 "cells": [
  {
   "cell_type": "code",
   "execution_count": 1,
   "metadata": {},
   "outputs": [],
   "source": [
    "import itertools as it"
   ]
  },
  {
   "cell_type": "code",
   "execution_count": 2,
   "metadata": {},
   "outputs": [],
   "source": [
    "combos = it.product([1, 2], ['a', 'b'], ['x','y'])"
   ]
  },
  {
   "cell_type": "code",
   "execution_count": 3,
   "metadata": {},
   "outputs": [
    {
     "name": "stdout",
     "output_type": "stream",
     "text": [
      "(1, 'a', 'x')\n",
      "(1, 'a', 'y')\n",
      "(1, 'b', 'x')\n",
      "(1, 'b', 'y')\n",
      "(2, 'a', 'x')\n",
      "(2, 'a', 'y')\n",
      "(2, 'b', 'x')\n",
      "(2, 'b', 'y')\n"
     ]
    }
   ],
   "source": [
    "for combo in combos:\n",
    "    print(combo)"
   ]
  },
  {
   "cell_type": "code",
   "execution_count": 9,
   "metadata": {},
   "outputs": [
    {
     "name": "stdout",
     "output_type": "stream",
     "text": [
      "1 a x\n",
      "1 a y\n",
      "1 b x\n",
      "1 b y\n",
      "2 a x\n",
      "2 a y\n",
      "2 b x\n",
      "2 b y\n"
     ]
    }
   ],
   "source": [
    "combos = ([1, 2], ['a', 'b'], ['x','y'])\n",
    "\n",
    "for combo1 in combos[0]:\n",
    "    for combo2 in combos[1]:\n",
    "        for combo3 in combos[2]:\n",
    "            print(combo1,combo2,combo3)"
   ]
  },
  {
   "cell_type": "code",
   "execution_count": 15,
   "metadata": {},
   "outputs": [],
   "source": [
    "combos = it.product(range(50,200,20),range(20,50,10),range(5,20,5))\n",
    "combo_list = list(combos)"
   ]
  },
  {
   "cell_type": "code",
   "execution_count": 16,
   "metadata": {},
   "outputs": [
    {
     "name": "stdout",
     "output_type": "stream",
     "text": [
      "(50, 20, 5)\n",
      "(50, 20, 10)\n",
      "(50, 20, 15)\n",
      "(50, 30, 5)\n",
      "(50, 30, 10)\n",
      "(50, 30, 15)\n",
      "(50, 40, 5)\n",
      "(50, 40, 10)\n",
      "(50, 40, 15)\n",
      "(70, 20, 5)\n",
      "(70, 20, 10)\n",
      "(70, 20, 15)\n",
      "(70, 30, 5)\n",
      "(70, 30, 10)\n",
      "(70, 30, 15)\n",
      "(70, 40, 5)\n",
      "(70, 40, 10)\n",
      "(70, 40, 15)\n",
      "(90, 20, 5)\n",
      "(90, 20, 10)\n",
      "(90, 20, 15)\n",
      "(90, 30, 5)\n",
      "(90, 30, 10)\n",
      "(90, 30, 15)\n",
      "(90, 40, 5)\n",
      "(90, 40, 10)\n",
      "(90, 40, 15)\n",
      "(110, 20, 5)\n",
      "(110, 20, 10)\n",
      "(110, 20, 15)\n",
      "(110, 30, 5)\n",
      "(110, 30, 10)\n",
      "(110, 30, 15)\n",
      "(110, 40, 5)\n",
      "(110, 40, 10)\n",
      "(110, 40, 15)\n",
      "(130, 20, 5)\n",
      "(130, 20, 10)\n",
      "(130, 20, 15)\n",
      "(130, 30, 5)\n",
      "(130, 30, 10)\n",
      "(130, 30, 15)\n",
      "(130, 40, 5)\n",
      "(130, 40, 10)\n",
      "(130, 40, 15)\n",
      "(150, 20, 5)\n",
      "(150, 20, 10)\n",
      "(150, 20, 15)\n",
      "(150, 30, 5)\n",
      "(150, 30, 10)\n",
      "(150, 30, 15)\n",
      "(150, 40, 5)\n",
      "(150, 40, 10)\n",
      "(150, 40, 15)\n",
      "(170, 20, 5)\n",
      "(170, 20, 10)\n",
      "(170, 20, 15)\n",
      "(170, 30, 5)\n",
      "(170, 30, 10)\n",
      "(170, 30, 15)\n",
      "(170, 40, 5)\n",
      "(170, 40, 10)\n",
      "(170, 40, 15)\n",
      "(190, 20, 5)\n",
      "(190, 20, 10)\n",
      "(190, 20, 15)\n",
      "(190, 30, 5)\n",
      "(190, 30, 10)\n",
      "(190, 30, 15)\n",
      "(190, 40, 5)\n",
      "(190, 40, 10)\n",
      "(190, 40, 15)\n"
     ]
    }
   ],
   "source": [
    "for combo in combo_list:\n",
    "    print(combo)\n"
   ]
  },
  {
   "cell_type": "code",
   "execution_count": 28,
   "metadata": {},
   "outputs": [
    {
     "name": "stdout",
     "output_type": "stream",
     "text": [
      "Combos: 36\n",
      "[(90, 20, 5), (90, 20, 10), (90, 20, 15), (110, 20, 5), (110, 20, 10), (110, 20, 15), (130, 20, 5), (130, 20, 10), (130, 20, 15), (130, 30, 5), (130, 30, 10), (130, 30, 15), (150, 20, 5), (150, 20, 10), (150, 20, 15), (150, 30, 5), (150, 30, 10), (150, 30, 15), (170, 20, 5), (170, 20, 10), (170, 20, 15), (170, 30, 5), (170, 30, 10), (170, 30, 15), (170, 40, 5), (170, 40, 10), (170, 40, 15), (190, 20, 5), (190, 20, 10), (190, 20, 15), (190, 30, 5), (190, 30, 10), (190, 30, 15), (190, 40, 5), (190, 40, 10), (190, 40, 15)]\n"
     ]
    }
   ],
   "source": [
    "#newlist = [combo for combo in combo_list if combo[0]>1]\n",
    "newlist = [combo for combo in combo_list if ((combo[0])>(combo[1]*4)>(combo[2]*4))]\n",
    "print(f'Combos: {len(newlist)}')\n",
    "print((newlist))"
   ]
  },
  {
   "cell_type": "code",
   "execution_count": null,
   "metadata": {},
   "outputs": [],
   "source": []
  }
 ],
 "metadata": {
  "kernelspec": {
   "display_name": "algo",
   "language": "python",
   "name": "python3"
  },
  "language_info": {
   "codemirror_mode": {
    "name": "ipython",
    "version": 3
   },
   "file_extension": ".py",
   "mimetype": "text/x-python",
   "name": "python",
   "nbconvert_exporter": "python",
   "pygments_lexer": "ipython3",
   "version": "3.10.6"
  },
  "orig_nbformat": 4,
  "vscode": {
   "interpreter": {
    "hash": "62bb783676ae497f81e9060465adc3f2309100a60ae452229526dad828621947"
   }
  }
 },
 "nbformat": 4,
 "nbformat_minor": 2
}
