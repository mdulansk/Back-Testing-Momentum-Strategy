{
 "cells": [
  {
   "cell_type": "code",
   "execution_count": 2,
   "metadata": {},
   "outputs": [],
   "source": [
    "from dataclasses import dataclass\n",
    "import pandas as pd\n",
    "from math import ceil\n"
   ]
  },
  {
   "cell_type": "code",
   "execution_count": 6,
   "metadata": {},
   "outputs": [],
   "source": [
    "@dataclass\n",
    "class DataClassParameters:\n",
    "    # Data class to hold all of the various parameter values.\n",
    "    monthly_returns: pd.core.frame.DataFrame = None\n",
    "    first_run: bool = None\n",
    "    benchmark_sma_short_min: int = None\n",
    "    benchmark_sma_short_max: int = None\n",
    "    benchmark_sma_long_min: int = None\n",
    "    benchmark_sma_long_max: int = None\n",
    "    rolling_period_long_min: int = None\n",
    "    rolling_period_long_max: int = None\n",
    "    rolling_period_med_min: int = None\n",
    "    rolling_period_med_max: int = None\n",
    "    rolling_period_short_min: int = None\n",
    "    rolling_period_short_max: int = None\n",
    "    stop_loss_min: int = None\n",
    "    stop_loss_max: int = None\n",
    "    qty_long_period: int = 30 # Number of stocks to hold from longest rolling period\n",
    "    qty_med_period: int = 20 # Number of stocks to hold from medium rolling period\n",
    "    qty_short_period: int = 2 # Number of stocks to hold from shortest rolling period"
   ]
  },
  {
   "cell_type": "code",
   "execution_count": 10,
   "metadata": {},
   "outputs": [],
   "source": [
    "parameterData = DataClassParameters(first_run=True)"
   ]
  },
  {
   "cell_type": "code",
   "execution_count": 8,
   "metadata": {},
   "outputs": [],
   "source": [
    "parameterData.first_run = False"
   ]
  },
  {
   "cell_type": "code",
   "execution_count": 11,
   "metadata": {},
   "outputs": [
    {
     "data": {
      "text/plain": [
       "True"
      ]
     },
     "execution_count": 11,
     "metadata": {},
     "output_type": "execute_result"
    }
   ],
   "source": [
    "parameterData.first_run"
   ]
  },
  {
   "cell_type": "code",
   "execution_count": 12,
   "metadata": {},
   "outputs": [
    {
     "data": {
      "text/plain": [
       "30"
      ]
     },
     "execution_count": 12,
     "metadata": {},
     "output_type": "execute_result"
    }
   ],
   "source": [
    "parameterData.qty_long_period"
   ]
  },
  {
   "cell_type": "code",
   "execution_count": 11,
   "metadata": {},
   "outputs": [
    {
     "data": {
      "text/plain": [
       "10"
      ]
     },
     "execution_count": 11,
     "metadata": {},
     "output_type": "execute_result"
    }
   ],
   "source": [
    "ceil(100/10)"
   ]
  },
  {
   "cell_type": "code",
   "execution_count": null,
   "metadata": {},
   "outputs": [],
   "source": []
  }
 ],
 "metadata": {
  "kernelspec": {
   "display_name": "algo",
   "language": "python",
   "name": "python3"
  },
  "language_info": {
   "codemirror_mode": {
    "name": "ipython",
    "version": 3
   },
   "file_extension": ".py",
   "mimetype": "text/x-python",
   "name": "python",
   "nbconvert_exporter": "python",
   "pygments_lexer": "ipython3",
   "version": "3.10.6"
  },
  "orig_nbformat": 4,
  "vscode": {
   "interpreter": {
    "hash": "e26213f1be164962b461468972fd89f374928e979d98cd024b425d7ac8225448"
   }
  }
 },
 "nbformat": 4,
 "nbformat_minor": 2
}
