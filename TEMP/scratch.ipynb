{
 "cells": [
  {
   "cell_type": "code",
   "execution_count": 2,
   "metadata": {},
   "outputs": [],
   "source": [
    "import os\n",
    "import sys\n",
    "import pandas as pd\n",
    "import numpy as np\n",
    "import time"
   ]
  },
  {
   "cell_type": "code",
   "execution_count": 3,
   "metadata": {},
   "outputs": [],
   "source": [
    "HOME_DIR = os.path.expanduser('~/')\n",
    "sys.path.append(f\"{HOME_DIR}/Documents/Algo/Stock Price DB/\")\n",
    "from StockPriceData import process_ticker\n",
    "script_path = HOME_DIR+'/Documents/Algo/Strategies/Using Pandas/Momentum/Multiple Timeframes'\n",
    "cached_data = script_path+'/'+'cached_data'\n",
    "stats_data = script_path+'/'+'stats'\n",
    "data_folder = f'{HOME_DIR}/Documents/Algo/Data'\n",
    "ticker_folder = f'{data_folder}/Tickers/Nasdaq-100'\n",
    "current_date = time.strftime(\"%Y.%m.%d.%H%M%S\")\n",
    "daily_price_csv = f'{cached_data}/nasdaq100_daily_prices.csv'"
   ]
  },
  {
   "cell_type": "code",
   "execution_count": 4,
   "metadata": {},
   "outputs": [
    {
     "name": "stdout",
     "output_type": "stream",
     "text": [
      "Loaded prices for 206 tickers.\n"
     ]
    }
   ],
   "source": [
    "all_daily_prices_df = pd.read_csv(daily_price_csv, index_col=['Date'], parse_dates=True)\n",
    "print(f'Loaded prices for {all_daily_prices_df.shape[1]} tickers.')\n",
    "daily_prices_df = all_daily_prices_df.copy()\n",
    "daily_prices_df['CASH'] = 0.0 # We set to 0 to simulate 0% return as alternative to other investments when they're negative\n",
    "\n",
    "# OLD METHODS\n",
    "daily_returns = (daily_prices_df.pct_change()+1)[1:] # Adding 1 allows us to take the product of returns. Can't use cumsum though. This fucks things up for stocks that go to zero!\n",
    "weekly_returns = daily_returns.resample('W').prod() # Need to subtract 1 to get actual % returns.\n",
    "monthly_returns = daily_returns.resample('M').prod() # Need to subtract 1 to get actual % returns.\n",
    "\n",
    "# NEW METHODS\n",
    "daily_prices_df = daily_prices_df.loc[:,['ATVI','ADBE','ADP','ABNB','CASH']].copy()\n",
    "daily_returns2 = (daily_prices_df.pct_change())[1:]\n",
    "last_day_of_month = daily_prices_df.resample('M').agg(lambda x: x[-1]) # Resample to longer time frame, taking last value from each period using aggregation function\n",
    "monthly_return_method1 = ((last_day_of_month / last_day_of_month.shift(1)) - 1).fillna(0) # Manual percentage change calculation\n",
    "monthly_return_method2 = (last_day_of_month.pct_change()).fillna(0) # Using pandas method\n"
   ]
  },
  {
   "cell_type": "code",
   "execution_count": 5,
   "metadata": {},
   "outputs": [
    {
     "name": "stdout",
     "output_type": "stream",
     "text": [
      "monthly_return_method1:\n",
      "                 ATVI      ADBE       ADP  ABNB  CASH\n",
      "Date                                                \n",
      "2010-01-31  0.000000  0.000000  0.000000   0.0   0.0\n",
      "2010-02-28  0.059933  0.072755  0.020244   0.0   0.0\n",
      "2010-03-31  0.134031  0.020779  0.077125   0.0   0.0\n",
      "2010-04-30 -0.080332 -0.050042 -0.024678   0.0   0.0\n",
      "2010-05-31 -0.030120 -0.045238 -0.057377   0.0   0.0\n",
      "monthly_return_method2:\n",
      "                 ATVI      ADBE       ADP  ABNB  CASH\n",
      "Date                                                \n",
      "2010-01-31  0.000000  0.000000  0.000000   0.0   0.0\n",
      "2010-02-28  0.059933  0.072755  0.020244   0.0   0.0\n",
      "2010-03-31  0.134031  0.020779  0.077125   0.0   0.0\n",
      "2010-04-30 -0.080332 -0.050042 -0.024678   0.0   0.0\n",
      "2010-05-31 -0.030120 -0.045238 -0.057377   0.0   0.0\n"
     ]
    }
   ],
   "source": [
    "print(f'monthly_return_method1:\\n {monthly_return_method1.iloc[:5,:5]}')\n",
    "print(f'monthly_return_method2:\\n {monthly_return_method2.iloc[:5,:5]}')\n",
    "#print(f'daily_returns:\\n  {daily_returns.iloc[:5,:5]}')\n",
    "#print(f'daily_returns2:\\n  {daily_returns2.iloc[:5,:5]}')\n",
    "#print(f'weekly_returns:\\n  {weekly_returns.iloc[:5,:5]}')\n",
    "#print(f'weekly_returns2:\\n  {weekly_returns2.iloc[:5,:5]}')"
   ]
  },
  {
   "cell_type": "code",
   "execution_count": 6,
   "metadata": {},
   "outputs": [
    {
     "name": "stdout",
     "output_type": "stream",
     "text": [
      "Turned positive on 2021-01-31 00:00:00\n"
     ]
    },
    {
     "name": "stderr",
     "output_type": "stream",
     "text": [
      "/tmp/ipykernel_60996/826244296.py:5: FutureWarning: Timestamp.freq is deprecated and will be removed in a future version.\n",
      "  if abnb_returns[date] > 0 and abnb_returns[date-1*date.freq] == 0:\n"
     ]
    }
   ],
   "source": [
    "#all_daily_prices_df.head()\n",
    "abnb_returns = monthly_return_method2['ABNB']\n",
    "for date in abnb_returns.index:\n",
    "    #print(f'{date}:  {abnb_returns[date]}')\n",
    "    if abnb_returns[date] > 0 and abnb_returns[date-1*date.freq] == 0:\n",
    "        print(f'Turned positive on {date}')"
   ]
  },
  {
   "cell_type": "code",
   "execution_count": 7,
   "metadata": {},
   "outputs": [
    {
     "data": {
      "text/plain": [
       "Date\n",
       "2020-11-30    0.000000\n",
       "2020-12-31    0.000000\n",
       "2021-01-31    0.250886\n",
       "2021-02-28    0.123727\n",
       "2021-03-31   -0.089217\n",
       "Freq: M, Name: ABNB, dtype: float64"
      ]
     },
     "execution_count": 7,
     "metadata": {},
     "output_type": "execute_result"
    }
   ],
   "source": [
    "abnb_returns['2020-11-30':'2021-03-31']"
   ]
  },
  {
   "cell_type": "code",
   "execution_count": 19,
   "metadata": {},
   "outputs": [],
   "source": [
    "parameter_combos = [{'stop_type': 'indiv', 'qty_long_period': 30, 'qty_med_period': 20, 'qty_short_period': 5, 'SMA_S': 1, 'SMA_L': 146, 'rolling_l': 11, 'rolling_m': 9, 'rolling_s': 4, 'stop': 41},\n",
    "                    {'stop_type': 'indiv', 'qty_long_period': 30, 'qty_med_period': 20, 'qty_short_period': 5, 'SMA_S': 10, 'SMA_L': 15, 'rolling_l': 11, 'rolling_m': 4, 'rolling_s': 9, 'stop': 41},\n",
    "                    {'stop_type': 'indiv', 'qty_long_period': 30, 'qty_med_period': 20, 'qty_short_period': 5, 'SMA_S': 10, 'SMA_L': 1, 'rolling_l': 11, 'rolling_m': 6, 'rolling_s': 3, 'stop': 41},\n",
    "                    ]"
   ]
  },
  {
   "cell_type": "code",
   "execution_count": 20,
   "metadata": {},
   "outputs": [
    {
     "data": {
      "text/plain": [
       "[{'stop_type': 'indiv',\n",
       "  'qty_long_period': 30,\n",
       "  'qty_med_period': 20,\n",
       "  'qty_short_period': 5,\n",
       "  'SMA_S': 1,\n",
       "  'SMA_L': 146,\n",
       "  'rolling_l': 11,\n",
       "  'rolling_m': 9,\n",
       "  'rolling_s': 4,\n",
       "  'stop': 41},\n",
       " {'stop_type': 'indiv',\n",
       "  'qty_long_period': 30,\n",
       "  'qty_med_period': 20,\n",
       "  'qty_short_period': 5,\n",
       "  'SMA_S': 10,\n",
       "  'SMA_L': 15,\n",
       "  'rolling_l': 11,\n",
       "  'rolling_m': 4,\n",
       "  'rolling_s': 9,\n",
       "  'stop': 41},\n",
       " {'stop_type': 'indiv',\n",
       "  'qty_long_period': 30,\n",
       "  'qty_med_period': 20,\n",
       "  'qty_short_period': 5,\n",
       "  'SMA_S': 10,\n",
       "  'SMA_L': 1,\n",
       "  'rolling_l': 11,\n",
       "  'rolling_m': 6,\n",
       "  'rolling_s': 3,\n",
       "  'stop': 41}]"
      ]
     },
     "execution_count": 20,
     "metadata": {},
     "output_type": "execute_result"
    }
   ],
   "source": [
    "parameter_combos"
   ]
  },
  {
   "cell_type": "code",
   "execution_count": 21,
   "metadata": {},
   "outputs": [
    {
     "name": "stdout",
     "output_type": "stream",
     "text": [
      "\n",
      "parameter_combos_df:\n",
      "  stop_type  qty_long_period  qty_med_period  qty_short_period  SMA_S  SMA_L  \\\n",
      "0     indiv               30              20                 5      1    146   \n",
      "1     indiv               30              20                 5     10     15   \n",
      "2     indiv               30              20                 5     10      1   \n",
      "\n",
      "   rolling_l  rolling_m  rolling_s  stop  \n",
      "0         11          9          4    41  \n",
      "1         11          4          9    41  \n",
      "2         11          6          3    41  \n"
     ]
    }
   ],
   "source": [
    "parameter_combos_df = (pd.DataFrame(parameter_combos, columns=parameter_combos[0].keys())) # Create dataframe from list of dictionaries\n",
    "print(f'\\nparameter_combos_df:\\n{parameter_combos_df}')\n"
   ]
  },
  {
   "cell_type": "code",
   "execution_count": 23,
   "metadata": {},
   "outputs": [
    {
     "name": "stdout",
     "output_type": "stream",
     "text": [
      "11 9 4\n",
      "11 4 9\n",
      "11 6 3\n"
     ]
    }
   ],
   "source": [
    "\n",
    "# Iterate all rows using DataFrame.iterrows()\n",
    "for index, parameter_combo in parameter_combos_df.iterrows():\n",
    "    print (parameter_combo['rolling_l'], parameter_combo['rolling_m'], parameter_combo['rolling_s'])\n"
   ]
  },
  {
   "cell_type": "code",
   "execution_count": 28,
   "metadata": {},
   "outputs": [
    {
     "name": "stdout",
     "output_type": "stream",
     "text": [
      "\n",
      "parameter_combos_df:\n",
      "  stop_type  qty_long_period  qty_med_period  qty_short_period  SMA_S  SMA_L  \\\n",
      "0     indiv               30              20                 5      1    146   \n",
      "\n",
      "   rolling_l  rolling_m  rolling_s  stop  \n",
      "0         11          9          4    41  \n"
     ]
    }
   ],
   "source": [
    "parameter_combos_df = parameter_combos_df.loc[(parameter_combos_df['rolling_l'] >= parameter_combos_df['rolling_m']) & (parameter_combos_df['rolling_m'] >= parameter_combos_df['rolling_s']) & (parameter_combos_df['SMA_L'] >= parameter_combos_df['SMA_S'])]\n",
    "print(f'\\nparameter_combos_df:\\n{parameter_combos_df}')"
   ]
  },
  {
   "cell_type": "code",
   "execution_count": null,
   "metadata": {},
   "outputs": [],
   "source": []
  }
 ],
 "metadata": {
  "kernelspec": {
   "display_name": "algo",
   "language": "python",
   "name": "python3"
  },
  "language_info": {
   "codemirror_mode": {
    "name": "ipython",
    "version": 3
   },
   "file_extension": ".py",
   "mimetype": "text/x-python",
   "name": "python",
   "nbconvert_exporter": "python",
   "pygments_lexer": "ipython3",
   "version": "3.10.6"
  },
  "orig_nbformat": 4
 },
 "nbformat": 4,
 "nbformat_minor": 2
}
